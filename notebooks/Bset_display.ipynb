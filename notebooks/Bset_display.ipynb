{
 "cells": [
  {
   "cell_type": "code",
   "execution_count": null,
   "id": "0c99254a-aa5b-4f72-9c2e-550068b7143c",
   "metadata": {},
   "outputs": [],
   "source": [
    "import casmnb # notebook setup (local module only) \n",
    "tmp_dir = casmnb.notebook_dir() / \"bset_example\"\n",
    "input_dir = casmnb.input_dir()\n",
    "casmnb.autoconfigure()"
   ]
  },
  {
   "cell_type": "code",
   "execution_count": null,
   "id": "79259cb1-c687-41e9-aa1d-70c4d38c54cf",
   "metadata": {},
   "outputs": [],
   "source": [
    "import glob, os, pathlib, shutil\n",
    "from casm.project import Project"
   ]
  },
  {
   "cell_type": "markdown",
   "id": "3118d53d-7dd4-4575-bd0f-63ea11dc675b",
   "metadata": {},
   "source": [
    "**List example prim files**"
   ]
  },
  {
   "cell_type": "code",
   "execution_count": null,
   "id": "e5e855da-51a6-46e2-9d4a-02ec2e3d5ab1",
   "metadata": {},
   "outputs": [],
   "source": [
    "# For tutorial notebooks only:\n",
    "casmnb.list_example_prim()"
   ]
  },
  {
   "cell_type": "markdown",
   "id": "33ef9ee5-1eb1-4c12-8284-02e97fe6d672",
   "metadata": {},
   "source": [
    "**Create a project from an example prim**"
   ]
  },
  {
   "cell_type": "code",
   "execution_count": null,
   "id": "ad508aed-536d-4f47-9d82-8eb786aad38c",
   "metadata": {
    "scrolled": true
   },
   "outputs": [],
   "source": [
    "## Choose an example prim:\n",
    "prim_name = 'FCC_Hstrain_prim.json'\n",
    "\n",
    "## Create a project using the selected prim, \n",
    "## in a temporary directory                 \n",
    "project_path = tmp_dir / \"Proj\"\n",
    "\n",
    "if project_path.exists():\n",
    "    print(\"Remove existing project...\")\n",
    "    print(project_path)\n",
    "    shutil.rmtree(project_path)\n",
    "    print()\n",
    "\n",
    "print(\"Create new project directory...\")\n",
    "print(project_path)\n",
    "project_path.mkdir(parents=True, exist_ok=True)\n",
    "print()\n",
    "\n",
    "print(\"Copy prim:\")\n",
    "src = input_dir / \"prim\" / prim_name\n",
    "dest = project_path / \"prim.json\"\n",
    "print(\"src:\", src)\n",
    "print(\"dest:\", dest)\n",
    "shutil.copyfile(src, dest)\n",
    "print()\n",
    "\n",
    "print(\"Change working directory to:\")\n",
    "print(project_path)\n",
    "os.chdir(project_path)\n",
    "print()\n",
    "\n",
    "project = Project.init(path=project_path)"
   ]
  },
  {
   "cell_type": "markdown",
   "id": "b28d547b-afea-45fc-8860-14bfbf180f41",
   "metadata": {},
   "source": [
    "**Construct a basis set**"
   ]
  },
  {
   "cell_type": "code",
   "execution_count": null,
   "id": "d989df24-78db-40f4-a4f6-a4cb9bb903dc",
   "metadata": {},
   "outputs": [],
   "source": [
    "## Get or create a basis set named \"chebychev.1\"\n",
    "##\n",
    "## Note: this id must consist of:\n",
    "## letters, numbers, underscore only\n",
    "bset_id = \"default\"\n",
    "bset = project.bset.get(bset_id)\n",
    "\n",
    "## Select the occupation site basis functions\n",
    "## \n",
    "## Note: If the prim doesn't have occupation DoF,\n",
    "##       then set this to None\n",
    "## Options: \"chebychev\", \"occupation\", None\n",
    "occ_site_basis_functions_specs = None\n",
    "\n",
    "## Set the maximum polynomial order\n",
    "##\n",
    "## Note: If the prim has continuous DoF, \n",
    "##       then make sure this is not None\n",
    "## Type: int, None\n",
    "global_max_poly_order = 4\n",
    "\n",
    "## Add basis set parameters ##\n",
    "bset.make_bspecs(\n",
    "    max_length=[0.0, 0.0, 10.01, 7.27, 4.0],\n",
    "    occ_site_basis_functions_specs=occ_site_basis_functions_specs,\n",
    "    global_max_poly_order=global_max_poly_order,\n",
    ")\n",
    "\n",
    "## Save bspecs.json ##\n",
    "bset.commit()\n",
    "\n",
    "## Construct the cluster functions,\n",
    "## write and compile the Clexulator \n",
    "bset.update()"
   ]
  },
  {
   "cell_type": "markdown",
   "id": "fd704894-7708-4523-aaec-b7a5cdd12385",
   "metadata": {},
   "source": [
    "**Enumerate configurations to test correlations**"
   ]
  },
  {
   "cell_type": "code",
   "execution_count": null,
   "id": "6fd74959-6f40-44ad-8f2d-b1e6b6d4c72a",
   "metadata": {},
   "outputs": [],
   "source": [
    "enum_id = \"occ_by_supercell.1\"\n",
    "enum = project.enum.get(enum_id)\n",
    "enum.occ_by_supercell(max=4)\n",
    "enum.commit()"
   ]
  },
  {
   "cell_type": "markdown",
   "id": "9c917d43-6fa8-4618-9753-0eb2c6164b1b",
   "metadata": {},
   "source": [
    "**Calculate correlations**"
   ]
  },
  {
   "cell_type": "code",
   "execution_count": null,
   "id": "76c3b7d7-8638-4d82-a16f-93e965eaf6c9",
   "metadata": {},
   "outputs": [],
   "source": [
    "corr_calculator = bset.corr_calculator()\n",
    "corr = corr_calculator.per_unitcell(enum.configuration_set)\n",
    "print(\"corr:\")\n",
    "print(corr)\n",
    "print(\"shape:\", corr.shape)"
   ]
  },
  {
   "cell_type": "markdown",
   "id": "d03928c9-b21c-44a3-89a7-2bca6e5cdcab",
   "metadata": {},
   "source": [
    "**Print orbits**"
   ]
  },
  {
   "cell_type": "code",
   "execution_count": null,
   "id": "98b62ee8-e236-4d0b-9339-a6911e2993da",
   "metadata": {
    "scrolled": true
   },
   "outputs": [],
   "source": [
    "bset.print_orbits()"
   ]
  },
  {
   "cell_type": "markdown",
   "id": "9527e2ea-385b-4304-8dbf-71d345b6057a",
   "metadata": {},
   "source": [
    "**Print functions**"
   ]
  },
  {
   "cell_type": "code",
   "execution_count": null,
   "id": "ea083dad-39e4-4fa2-88ce-a23f36606152",
   "metadata": {
    "scrolled": true
   },
   "outputs": [],
   "source": [
    "bset.print_functions()"
   ]
  },
  {
   "cell_type": "code",
   "execution_count": null,
   "id": "ab394bed-7b21-44e3-87f9-954a0d5e9437",
   "metadata": {},
   "outputs": [],
   "source": []
  },
  {
   "cell_type": "code",
   "execution_count": null,
   "id": "6bef44b7-0029-4941-a66f-cfcf7471de9f",
   "metadata": {},
   "outputs": [],
   "source": []
  },
  {
   "cell_type": "code",
   "execution_count": null,
   "id": "3cb13413-c52f-4355-ad8b-69fe155c3056",
   "metadata": {},
   "outputs": [],
   "source": [
    "for file in bset.out.generated_files.get(\"all\"):\n",
    "    print(file)"
   ]
  },
  {
   "cell_type": "code",
   "execution_count": null,
   "id": "729fb5a7-2a38-4d36-8693-4c9cba8ddf3a",
   "metadata": {
    "scrolled": true
   },
   "outputs": [],
   "source": [
    "bset.display_functions(\n",
    "    id=bset_id,\n",
    "    linear_orbit_indices=None,  # use i.e. set(range(1,5)) to display a subset\n",
    ")"
   ]
  },
  {
   "cell_type": "code",
   "execution_count": null,
   "id": "e02f4bc5-28f3-492e-a540-732788b48ad0",
   "metadata": {},
   "outputs": [],
   "source": [
    "from IPython.display import display, HTML\n",
    "import mdtex2html\n",
    "\n",
    "s = R\"\"\"# Example-Title\n",
    "\n",
    "TeX-Formula: \n",
    "\n",
    "Occupation site basis functions:\n",
    "\n",
    "Sublattice 1:\n",
    "$$\n",
    "    \\begin{array}[rcrrrl]\n",
    "      & & &\\mathrm{Si}, & \\mathrm{Ge} &  \\\\\n",
    "    \\phi_{0,0} &= &[&1, & 1 &] \\\\\n",
    "    \\phi_{0,1} &= &[&-1, & 1 &] \\\\\n",
    "    \\end{array} \n",
    "$$\n",
    "\n",
    "$~$\n",
    "\n",
    "Sublattice 2:\n",
    "$$\n",
    "    \\begin{array}[rcrrrl]\n",
    "      & & &\\mathrm{Si}, & \\mathrm{Ge} &  \\\\\n",
    "    \\phi_{0,0} &= &[&1, & 1 &] \\\\\n",
    "    \\phi_{0,1} &= &[&-1, & 1 &] \\\\\n",
    "    \\end{array} \n",
    "$$\n",
    "\n",
    "- This\n",
    "- is\n",
    "    - a List with `inline-Code`\n",
    "\"\"\"\n",
    "display(HTML(mdtex2html.convert(s)))"
   ]
  },
  {
   "cell_type": "code",
   "execution_count": null,
   "id": "87eb0c86-642e-4ab8-92b2-d5babb9499bc",
   "metadata": {},
   "outputs": [],
   "source": []
  }
 ],
 "metadata": {
  "kernelspec": {
   "display_name": "Python 3 (ipykernel)",
   "language": "python",
   "name": "python3"
  },
  "language_info": {
   "codemirror_mode": {
    "name": "ipython",
    "version": 3
   },
   "file_extension": ".py",
   "mimetype": "text/x-python",
   "name": "python",
   "nbconvert_exporter": "python",
   "pygments_lexer": "ipython3",
   "version": "3.11.5"
  }
 },
 "nbformat": 4,
 "nbformat_minor": 5
}

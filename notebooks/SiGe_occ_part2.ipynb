{
 "cells": [
  {
   "cell_type": "markdown",
   "id": "c84a7bb8-8adf-4b2c-a3e4-e0d987e56398",
   "metadata": {},
   "source": [
    "# Si-Ge cluster expansion workflow - part 2\n",
    "\n",
    "This is a CASM project tutorial to generate a phase diagram using a Si-Ge binary alloy cluster expansion fit to DFT calculations. The overall workflow is split into two parts.\n",
    "\n",
    "Topics covered in part 2:\n",
    "\n",
    "1. **Basis set construction**: Specify clusters and basis functions and construct a Clexulator\n",
    "2. **Cluster expansion fitting**: Collect energies from import and mapping results and evaluate correlations, the per unitcell mean value of the symmetrically equivalent cluster functions. Fit coefficients to DFT calculated energies\n",
    "4. **Monte Carlo simulations**: Run semi-grand canonical Monte Carlo simulations using the cluster expansion\n",
    "\n",
    "** **Important** **: The following step uses *casm.bset.autoconfigure* to set CASM environment variables automatically if CASM_PREFIX is not already set. The instructions [here](https://prisms-center.github.io/CASMcode_pydocs/casm/bset/2.0/installation.html#environment-variable-configuration) describe how to set CASM environment variables before launching Jupyter.\n"
   ]
  },
  {
   "cell_type": "markdown",
   "id": "2014ce19-ae36-4be2-9113-4b291f68f3ab",
   "metadata": {},
   "source": [
    "## Setup\n",
    "\n",
    "### Imports and paths"
   ]
  },
  {
   "cell_type": "code",
   "execution_count": null,
   "id": "29689aca-ab0d-42b0-aa19-7fe9fd1fd60b",
   "metadata": {},
   "outputs": [],
   "source": [
    "import pathlib\n",
    "import libcasm.xtal as xtal\n",
    "from libcasm.xtal import pretty_json\n",
    "from casm.project import Project\n",
    "from casm.project.json_io import read_required, safe_dump\n",
    "\n",
    "input_dir = pathlib.Path(\"input\")\n",
    "project_path = pathlib.Path(\"SiGe_occ\")\n",
    "\n",
    "# Configure environment variables:\n",
    "import os\n",
    "\n",
    "if \"CASM_PREFIX\" not in os.environ:\n",
    "    import casm.bset\n",
    "\n",
    "    print(\"Autoconfigure...\")\n",
    "    casm.bset.autoconfigure()\n",
    "    print(\"Autoconfigure DONE\")"
   ]
  },
  {
   "cell_type": "markdown",
   "id": "bb54ebff-34be-4a05-9d67-d8398f7e0341",
   "metadata": {},
   "source": [
    "### Setup checks\n",
    "\n",
    "- This notebook depends the import results obtained in part 1. Here we check that the necessary results exist. "
   ]
  },
  {
   "cell_type": "code",
   "execution_count": null,
   "id": "e8a20095-74ff-48c6-8e70-6b281c38abbb",
   "metadata": {
    "scrolled": true
   },
   "outputs": [],
   "source": [
    "# Construct project & read import results from part 1\n",
    "try:\n",
    "    project = Project.init(path=project_path)\n",
    "    data_dir = project.path / \"precalculated\"\n",
    "    mapped_structures_path = data_dir / \"mapped_structures.json\"\n",
    "    mapped_structures = read_required(mapped_structures_path)\n",
    "    if len(mapped_structures) != 119:\n",
    "        raise ValueError(\n",
    "            f\"Expected 119 mapped structures, found {len(mapped_structures)}. \"\n",
    "            \"Try removing the SiGe_occ directory and re-running part 1.\"\n",
    "        )\n",
    "except Exception as e:\n",
    "    print(e)\n",
    "    raise ValueError(\"Make sure to run part 1 first.\")\n",
    "\n",
    "print(f\"Found {len(mapped_structures)} mapped structures\")"
   ]
  },
  {
   "cell_type": "markdown",
   "id": "5097bd6f-2e36-4c8f-b0d8-4b6f54b37c8c",
   "metadata": {},
   "source": [
    "## Basis set construction\n",
    "\n",
    "### Basis set generating group\n",
    "\n",
    "The formation energy is invariant under transformation by prim factor group operations, so we call it the \"generating group\" for our cluster expansion basis set. \n",
    "\n",
    "- [Project.sym]() gives quick access to symmetry information for the project.\n",
    "- [Project.sym.print_factor_group]() gives a summary of the prim factor group operations.\n"
   ]
  },
  {
   "cell_type": "code",
   "execution_count": null,
   "id": "c9ffc3c9-efda-480d-9ac0-2db61f709e9a",
   "metadata": {
    "scrolled": true
   },
   "outputs": [],
   "source": [
    "project.sym.print_factor_group()"
   ]
  },
  {
   "cell_type": "markdown",
   "id": "48a31a5b-8aa2-43a0-a6d1-aadb2fb29f14",
   "metadata": {},
   "source": [
    "### Specify clusters and basis functions\n",
    "\n",
    "Use [*bset.make_bspecs*]() to construct a cluster expansion basis set for the Si-Ge formation energy. The parameters that may be useful are:\n",
    "\n",
    "- *max_length*: The maximum site-to-site distance to allow in clusters, by number of sites in the cluster.\n",
    "    - Example: ``max_length=[0.0, 0.0, 5.0, 4.0]`` specifies that pair clusters up to distance 5.0 and triplet clusters up to distance 4.0 should be included. The null cluster and point cluster values (elements 0 and 1) are arbitrary.\n",
    "- *custom_generators*: Optionally, specify particular clusters to include regardless of *max_length*\n",
    "- *occ_site_basis_functions_specs*: Select the occupation site basis functions. The most common options are:\n",
    "  - \"chebychev\": An expansion (with correlation values all equal to 0) about the idealized random alloy where the probability of any of the allowed occupants on a particular site is the same.\n",
    "  - \"occupation\": An expansion (with correlation values all equal to 0) about the default configuration where each site is occupied by the first allowed occupant in the Prim.occ_dof list.\n",
    "  - See details [here](https://prisms-center.github.io/CASMcode_pydocs/casm/bset/2.0/usage/basis_function_specs.html#occupation-site-basis-functions)"
   ]
  },
  {
   "cell_type": "code",
   "execution_count": null,
   "id": "e4a114e7-e407-4d7d-82e7-2d817b9f65d1",
   "metadata": {},
   "outputs": [],
   "source": [
    "# Specify the basis set ID\n",
    "# - Must be alphanumeric and underscores only\n",
    "bset_id = \"default\"\n",
    "\n",
    "# Specify maximum cluster site-to-site distance,\n",
    "# by number of sites in the cluster\n",
    "pair_max_length = 10.01\n",
    "triplet_max_length = 7.27\n",
    "quad_max_length = 4.0\n",
    "\n",
    "# Use chebychev site basis functions (+x, -x)\n",
    "occ_site_basis_functions_specs = \"chebychev\"\n",
    "\n",
    "project.bset.make_bspecs(\n",
    "    id=bset_id,\n",
    "    max_length=[\n",
    "        0.0, # null cluster, arbitrary\n",
    "        0.0, # point cluster, arbitrary\n",
    "        pair_max_length,\n",
    "        triplet_max_length,\n",
    "        quad_max_length,\n",
    "    ],\n",
    "    occ_site_basis_functions_specs=\"chebychev\",\n",
    "    force=True,\n",
    ")"
   ]
  },
  {
   "cell_type": "markdown",
   "id": "92fec9b5-4d7c-4da5-8df7-a122d71bd341",
   "metadata": {},
   "source": [
    "### The bspecs.json file\n",
    "\n",
    "The previous steps created a \"bspecs.json\" file storing the basis set specifications:\n",
    "\n",
    "- *cluster_specs*: specifications for which clusters to construct \n",
    "  cluster functions on \n",
    "- *basis_functions_specs*: specifications for which type of basis\n",
    "  functions to generate\n",
    "- *version*: specifies the Clexulator version to write (CASM v2+)\n",
    "\n",
    "The \"bspecs.json\" file can also be edited manually, using the format described [here](https://prisms-center.github.io/CASMcode_docs/formats/casm/clex/ClexBasisSpecs/).\n"
   ]
  },
  {
   "cell_type": "code",
   "execution_count": null,
   "id": "3359c0b6-0ee4-4387-9126-5a1998d79692",
   "metadata": {
    "scrolled": true
   },
   "outputs": [],
   "source": [
    "bspecs_path = project.dir.bspecs(bset=\"default\")\n",
    "print(pretty_json(read_required(bspecs_path)))"
   ]
  },
  {
   "cell_type": "markdown",
   "id": "72968b40-bc53-4dba-a8f2-67af77d6d6b3",
   "metadata": {},
   "source": [
    "### Generate and compile the Clexulator\n",
    "\n",
    "The *bset.update* command generates and compiles a Clexulator (cluster expansion calculator).\n",
    "\n",
    "Options include:\n",
    "\n",
    "- *no_compile*: generate the basis set so that you can inspect the clusters and functions without compiling the Clexulator\n",
    "- *only_compile*: re-compile a Clexulator using the existing files"
   ]
  },
  {
   "cell_type": "code",
   "execution_count": null,
   "id": "1a64bf38-fd85-4704-b6fc-16847e36f21d",
   "metadata": {},
   "outputs": [],
   "source": [
    "project.bset.update(\n",
    "    id=bset_id,\n",
    "    # no_compile=False,\n",
    "    # only_compile=False\n",
    ")"
   ]
  },
  {
   "cell_type": "markdown",
   "id": "a175fd85-a4d2-4b24-a85f-f0a954d5f1aa",
   "metadata": {},
   "source": [
    "### Inspect the cluster expansion\n",
    "\n",
    "Print the cluster orbits:\n",
    "\n",
    "- An \"orbit\" is the set of symmetrically equivalent objects. The \"prototype\" is one element in the orbit.\n",
    "- In the context of periodic cluster expansion, the \"multiplicity\" of the orbit is the number of equivalent per unit cell (avoiding double counting clusters which include sites in multiple unit cell).\n",
    "- The \"cluster invariant group\" is the set of prim factor group operations plus some lattice translation which leave the cluster unchanged.\n",
    "  - This is the symmetry used to construct cluster functions. "
   ]
  },
  {
   "cell_type": "code",
   "execution_count": null,
   "id": "819629ad-7425-4460-9375-32c4b273333e",
   "metadata": {
    "scrolled": true
   },
   "outputs": [],
   "source": [
    "bset_id=\"default\"\n",
    "project.bset.print_orbits(\n",
    "    id=bset_id,\n",
    "    linear_orbit_indices=None,  # use i.e. set(range(1,5)) to print a subset\n",
    ")"
   ]
  },
  {
   "cell_type": "markdown",
   "id": "d47c4bb3-8ee3-48ab-97cd-eaa36443d539",
   "metadata": {},
   "source": [
    "Print the cluster function prototypes:\n",
    "\n",
    "- These are the cluster functions on the prototype cluster\n",
    "- For a binary alloy like Si-Ge there is one function per cluster\n",
    "  - For example, if the default occupation is Si, then the cluster expansion includes terms for Ge (point), Ge-Ge (pair), Ge-Ge-Ge (triplet), etc., but no Si-Ge (pair) term, because that is the same a Ge (point) term\n",
    "- In general there may be >1 cluster per function, to account for interactions between different combinations of occupations "
   ]
  },
  {
   "cell_type": "code",
   "execution_count": null,
   "id": "521d3dee-1bd5-4a7c-a3bf-6638438f2c1e",
   "metadata": {
    "scrolled": true
   },
   "outputs": [],
   "source": [
    "project.bset.print_functions(\n",
    "    id=bset_id,\n",
    "    linear_orbit_indices=None,  # use i.e. set(range(1,5)) to print a subset\n",
    ")\n",
    "\n",
    "# \\phi_{sublattice_index, function_index}\n",
    "# value[function_index][occupant_index]"
   ]
  },
  {
   "cell_type": "markdown",
   "id": "45d0e528-45ee-4d3d-b509-140b29bb522d",
   "metadata": {},
   "source": [
    "## Monte Carlo simulations"
   ]
  },
  {
   "cell_type": "markdown",
   "id": "15bb3211-9b14-4b3b-a74f-ec4c2b944193",
   "metadata": {},
   "source": [
    "### Load a Monte Carlo System"
   ]
  },
  {
   "cell_type": "code",
   "execution_count": null,
   "id": "fbf6a81d-ce23-4f59-a185-111a9b3601ed",
   "metadata": {},
   "outputs": [],
   "source": [
    "from casm.project.json_io import read_required\n",
    "from libcasm.clexmonte import (\n",
    "    System,\n",
    ")\n",
    "\n",
    "system_data = read_required(input_dir / \"system.json\")\n",
    "bset_dir = project.dir.bset_dir(bset=bset_id)\n",
    "\n",
    "system = System.from_dict(\n",
    "    data=system_data,\n",
    "    search_path=[str(input_dir), str(bset_dir)],\n",
    ")"
   ]
  },
  {
   "cell_type": "markdown",
   "id": "eb2aefdd-a918-428f-8e63-b5f0454448e7",
   "metadata": {},
   "source": [
    "### Run simulations"
   ]
  },
  {
   "cell_type": "code",
   "execution_count": null,
   "id": "60944b01-6c44-4a31-87be-8420238faecf",
   "metadata": {
    "scrolled": true
   },
   "outputs": [],
   "source": [
    "from libcasm.clexmonte import MonteCalculator, make_initial_state\n",
    "\n",
    "output_dir = project.path / \"output\"\n",
    "output_dir.mkdir(parents=True, exist_ok=True)\n",
    "summary_file = output_dir / \"summary.json\"\n",
    "\n",
    "# construct a semi-grand canonical MonteCalculator\n",
    "calculator = MonteCalculator(\n",
    "    method=\"semigrand_canonical\",\n",
    "    system=system,\n",
    ")\n",
    "\n",
    "# construct default sampling fixture parameters\n",
    "thermo = calculator.make_default_sampling_fixture_params(\n",
    "    label=\"thermo\",\n",
    "    output_dir=str(output_dir),\n",
    ")\n",
    "print(xtal.pretty_json(thermo.to_dict()))\n",
    "\n",
    "# construct the initial state (default configuration)\n",
    "initial_state, motif, motif_id = make_initial_state(\n",
    "    calculator=calculator,\n",
    "    conditions={\n",
    "        \"temperature\": 300.0,\n",
    "        \"param_chem_pot\": [-1.0],\n",
    "    },\n",
    "    min_volume=1000,\n",
    ")\n",
    "\n",
    "# Run\n",
    "sampling_fixture = calculator.run_fixture(\n",
    "    state=initial_state,\n",
    "    sampling_fixture_params=thermo,\n",
    ")"
   ]
  },
  {
   "cell_type": "code",
   "execution_count": null,
   "id": "e615be56-4f1e-48ee-a9d5-39f84995345e",
   "metadata": {},
   "outputs": [],
   "source": [
    "import numpy as np\n",
    "\n",
    "# construct the initial state (default configuration)\n",
    "initial_state, motif, motif_id = make_initial_state(\n",
    "    calculator=calculator,\n",
    "    conditions={\n",
    "        \"temperature\": 300.0,\n",
    "        \"param_chem_pot\": [-1.0],\n",
    "    },\n",
    "    min_volume=1000,\n",
    ")\n",
    "\n",
    "state = initial_state\n",
    "\n",
    "# Run several, w/ dependent runs\n",
    "mu_list = np.arange(-4.0, 0.01, step=0.5)\n",
    "for mu in mu_list:\n",
    "    state.conditions.vector_values[\"param_chem_pot\"] = [mu]\n",
    "    sampling_fixture = calculator.run_fixture(\n",
    "        state=state,\n",
    "        sampling_fixture_params=thermo,\n",
    "    )"
   ]
  }
 ],
 "metadata": {
  "kernelspec": {
   "display_name": "Python 3 (ipykernel)",
   "language": "python",
   "name": "python3"
  },
  "language_info": {
   "codemirror_mode": {
    "name": "ipython",
    "version": 3
   },
   "file_extension": ".py",
   "mimetype": "text/x-python",
   "name": "python",
   "nbconvert_exporter": "python",
   "pygments_lexer": "ipython3",
   "version": "3.11.5"
  }
 },
 "nbformat": 4,
 "nbformat_minor": 5
}

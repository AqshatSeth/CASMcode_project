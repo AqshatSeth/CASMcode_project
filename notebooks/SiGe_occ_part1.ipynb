{
 "cells": [
  {
   "cell_type": "markdown",
   "id": "d6bd29ae-e376-4d29-bd79-fa6a3c2cf819",
   "metadata": {},
   "source": [
    "# Si-Ge cluster expansion workflow - part 1\n",
    "\n",
    "This is a CASM project tutorial to generate a phase diagram using a Si-Ge binary alloy cluster expansion fit to DFT calculations. The overall workflow is split into two parts.\n",
    "\n",
    "Topics covered in part 1:\n",
    "\n",
    "1. **Project initialization**: Define the primitive crystal structure and allowed atoms on each crystal site\n",
    "2. **Enumeration**: Enumerate crystal structures which are symmetrically distinct orderings of the atoms allowed by the prim occupation DoF\n",
    "3. **Calculation**: Calculate the energies of the enumerated structures using DFT\n",
    "4. **Import and mapping**: Import calculation results, mapping to orderings on the prim\n",
    "5. **Set reference states**: Choose reference states to define a formation energy for each structure\n",
    "6. **Query**: Query calculation properties\n"
   ]
  },
  {
   "cell_type": "code",
   "execution_count": null,
   "id": "c1c8c5df-db61-41cf-bc47-b3f75b7475a4",
   "metadata": {
    "ExecuteTime": {
     "end_time": "2024-08-19T04:56:43.616508Z",
     "start_time": "2024-08-19T04:56:43.532689Z"
    }
   },
   "outputs": [],
   "source": [
    "import pathlib\n",
    "import libcasm.xtal as xtal\n",
    "from casm.project import Project\n",
    "from casm.project.json_io import safe_dump\n",
    "\n",
    "input_dir = pathlib.Path(\"input\")\n",
    "\n",
    "project_path = pathlib.Path(\"SiGe_occ\")\n",
    "project_path.mkdir(parents=True, exist_ok=True)"
   ]
  },
  {
   "cell_type": "markdown",
   "id": "f9cf00b3-1fb2-45fd-a0a4-16e1d54a883d",
   "metadata": {},
   "source": [
    "## Project initialization\n",
    "\n",
    "### Specify the \"prim\"\n",
    "\n",
    "A primitive crystal structure and allowed degrees of freedom (the \"prim\") specifies:\n",
    "\n",
    "- lattice vectors\n",
    "- crystal basis sites\n",
    "- global degrees of freedom\n",
    "- site degrees of freedom, including allowed occupant species on each basis site.\n",
    "\n",
    "When combined with a choice of basis function type, order, and truncation, the prim provides all the information needed to generate cluster expansion basis functions.\n",
    "\n",
    "Here is the prim for the Si-Ge binary alloy project, which we write to a JSON-formatted file named \"prim.json\":"
   ]
  },
  {
   "cell_type": "code",
   "execution_count": null,
   "id": "0b68f03f-e958-4ea1-95b0-dda042896afb",
   "metadata": {
    "ExecuteTime": {
     "end_time": "2024-08-19T04:56:49.293218Z",
     "start_time": "2024-08-19T04:56:49.279434Z"
    }
   },
   "outputs": [],
   "source": [
    "prim_data = {\n",
    "    \"title\": \"SiGe_occ\",\n",
    "    \"lattice_vectors\": [\n",
    "        [0.000000000000, 2.800000000000, 2.800000000000],  # 1st lattice vector\n",
    "        [2.800000000000, 0.000000000000, 2.800000000000],  # 2nd lattice vector\n",
    "        [2.800000000000, 2.800000000000, 0.000000000000],  # 3rd lattice vector\n",
    "    ],\n",
    "    \"coordinate_mode\": \"Fractional\",\n",
    "    \"basis\": [\n",
    "        {\n",
    "            \"coordinate\": [0.0, 0.0, 0.0],\n",
    "            \"occupant_dof\": [\"Si\", \"Ge\"],\n",
    "        },\n",
    "        {\n",
    "            \"coordinate\": [0.25, 0.25, 0.25],\n",
    "            \"occupant_dof\": [\"Si\", \"Ge\"],\n",
    "        },\n",
    "    ],\n",
    "}\n",
    "\n",
    "with open(project_path / \"prim.json\", \"w\") as f:\n",
    "    f.write(xtal.pretty_json(prim_data))"
   ]
  },
  {
   "cell_type": "markdown",
   "id": "b348f5cb-bbf0-4853-9934-6d64244fd8f0",
   "metadata": {},
   "source": [
    "For this particular project, the prim contains:\n",
    "\n",
    "- **lattice_vectors**: A list of crystal lattice vectors. Units are typically Angstrom, but are ultimately determined by the method used to perform calculations. \n",
    "- **basis**: A list of crystal basis sites, including coordinate and allowed degrees of freedom. For this ZrO project, the basis sites contain:\n",
    "  - **coordinate**: The location of the basis site, according to the \"coordinate_mode\".\n",
    "  - **occupants**: A list of the possible occupant species that may reside at each site. The names are case sensitive, and “Va” is reserved for vacancies.\n",
    "- **coordinate_mode**: Defines the units of basis site coordinates. May be one of:\n",
    "  - \"Cartesian\": To specify basis coordinates using Cartesian coordinates:\n",
    "    $$ r_{cart} = (x, y, z) $$\n",
    "  - \"Fractional\" or \"Direct\": To specify basis coordinates defined in terms of the lattice vectors:\n",
    "    $$ r_{cart} = L r_{frac}, $$\n",
    "    where:\n",
    "    - $r_{frac}$ are the coordinates in the fractional representation\n",
    "    - $r_{cart}$ are the coordinates in the Cartesian representation\n",
    "    - $L$ is the lattice as a column-vector matrix. \n",
    "  \n",
    "**Note**: It is common, but not required, to use the results of a fully relaxed calculation of the structure with the default occupation values for the prim lattice vectors. The default occupation on each site is the species listed first in \"occupants\". For occupation cluster expansions, ideal supercells of the prim lattice are used for the initial state of DFT calculations and are the default reference for strain."
   ]
  },
  {
   "cell_type": "markdown",
   "id": "3f2d8ffe-125a-4a06-8795-c4b9b8aefbb8",
   "metadata": {},
   "source": [
    "### Initialize a CASM project\n",
    "\n",
    "A CASM project is a directory containing data related to a particular prim. The CASM project directory structure standardizes the location of various files used by multiple CASM methods. This makes it easier to perform the most common operations and easier to share a project with others.\n",
    "\n",
    "A CASM project is initialized by defining a prim and using [Project.init TODO](TODO). This will:\n",
    "\n",
    "1. Check if the prim has a primitive unit cell with a CASM standard lattice orientation\n",
    "2. Perform a symmetry analysis\n",
    "3. Generate some default directories, data, and settings\n",
    "4. Perform a configuration check \n",
    "\n",
    "\n",
    "Notes:\n",
    "\n",
    "- Project files that the user should not typically modify directly, including a copy of the prim, are stored in a hidden `.casm` sub-directory of the CASM project directory. The presense or absence of the `.casm` directory is used by CASM to detect a CASM project.\n"
   ]
  },
  {
   "cell_type": "code",
   "execution_count": null,
   "id": "317ace48-41c3-4377-a74d-4c12e090fe86",
   "metadata": {},
   "outputs": [],
   "source": [
    "project = Project.init(path=project_path)"
   ]
  },
  {
   "cell_type": "markdown",
   "id": "557732d5-c3b6-4fbc-8598-15b6d96680a9",
   "metadata": {},
   "source": [
    "coming: \n",
    "- Show what happens with non-primitive prim or non-standard lattice?\n",
    "- Visualize the prim"
   ]
  },
  {
   "cell_type": "markdown",
   "id": "dda4a6da-9c7b-4deb-874a-aed638715f74",
   "metadata": {},
   "source": [
    "## Enumeration\n",
    "\n",
    "### Introduction\n",
    "\n",
    "To fit a cluster expansion for the Si-Ge system, we need a set of calculated energies for Si-Ge crystal structures with various orderings to use as training data. To begin, we use CASM to enumerate symmetrically distinct [Supercell]() and [Configuration]():\n",
    "\n",
    "- A [Supercell]() defines the three-dimensional translations that repeat a crystal structure. \n",
    "\n",
    "  -  A supercell can be specified by the integer transformation matrix, $T$, relating the superstructure lattice vectors, $S$, to the unit structure lattice vectors, $L$, according to $S = L T$, where $S$ and $L$ are shape=(3,3) matrices with lattice vectors as columns.\n",
    "  \n",
    "  TODO: figure\n",
    " \n",
    "- A [Configuration]() is a compact representation of the unit cell for a crystal structure that is allowed by the DoF specified in the prim. For this Si-Ge project, a configuration can be specified by:\n",
    " \n",
    "  - the supercell that is the unit cell for the crystal structure, and\n",
    "  - the occupant on each sites in the supercell (i.e. is Si or Ge on each site in the supercell).\n",
    "  \n",
    "  TODO: figure\n",
    "\n",
    "The Supercell object holds symmetry representations that efficiently applying symmetry operations to a configuration, allowing for comparisons and checks to determine if a configuration is symmetrically distinct. The same symmetry representations can be used to transform any configuration in the same supercell, so a Supercell object can be shared by multiple Configuration objects."
   ]
  },
  {
   "cell_type": "markdown",
   "id": "e9d9e50f-ee43-4866-a332-16bcbc0f4593",
   "metadata": {},
   "source": [
    "### Supercell enumeration\n",
    "\n",
    "#### Enumerating supercells by volume\n",
    "\n",
    "The method [enum.supercells_by_volume]() enumerates symmetrically distinct supercells from a minimum to a maximum volume, specified as integer multiples of the prim unit cell volume. It also has additional options, described in the reference documentation, for more complex use cases:\n",
    "\n",
    "- Enumerate supercells of another supercell\n",
    "- Enumerate 1d or 2d supercells\n",
    "- Enumerate supercells with a fixed shape but different sizes"
   ]
  },
  {
   "cell_type": "code",
   "execution_count": null,
   "id": "e0f5d686-f61f-477f-abe2-148ad5c429f6",
   "metadata": {},
   "outputs": [],
   "source": [
    "# Enumerate supercells with volume 1 to 4\n",
    "project.enum.supercells_by_volume(\n",
    "    max=4,\n",
    "    min=1,\n",
    "    id=\"supercells_by_volume.1\",\n",
    "    verbose=True,\n",
    ")"
   ]
  },
  {
   "cell_type": "markdown",
   "id": "dc494516-4d6b-47d7-a556-18d605ba5ea0",
   "metadata": {},
   "source": [
    "#### Enumeration Data\n",
    "\n",
    "The results of an enumeration can be accessed using the [EnumData]() class. The last enumeration is saved in [project.enum.last](). We can put additional information, including a text description of the enumeration, in the [EnumData.meta]() dict and save the updated EnumData using [commit](). Subsequently, if \"desc\" exists in [EnumData.meta](), it will be printed along with summary information such as the number of supercells."
   ]
  },
  {
   "cell_type": "code",
   "execution_count": null,
   "id": "402dcce7-dc59-48ac-89f5-2f3a99b9a76b",
   "metadata": {},
   "outputs": [],
   "source": [
    "enum_data = project.enum.last\n",
    "enum_data.meta = {\"desc\": \"Initial supercell enumeration\"}\n",
    "enum_data.commit()\n",
    "print(enum_data)"
   ]
  },
  {
   "cell_type": "markdown",
   "id": "6cd7d197-ee8a-4b96-9714-049466c66b60",
   "metadata": {},
   "source": [
    "Later, the [EnumData]() may also be accessed by id string using the [enum.get]() method."
   ]
  },
  {
   "cell_type": "code",
   "execution_count": null,
   "id": "b563adc0-adbf-47dd-80dd-f653b7230988",
   "metadata": {},
   "outputs": [],
   "source": [
    "enum_data = project.enum.get(\"supercells_by_volume.1\")\n",
    "print(enum_data)"
   ]
  },
  {
   "cell_type": "markdown",
   "id": "53dafc2a-673c-4f96-8d7e-6c3dc153b4ef",
   "metadata": {},
   "source": [
    "#### SupercellSet\n",
    "\n",
    "The supercells enumerated by [enum.supercells_by_volume]() are stored as [SupercellRecord](https://prisms-center.github.io/CASMcode_pydocs/libcasm/configuration/2.0/reference/libcasm/_autosummary/libcasm.configuration.SupercellRecord.html#supercellrecord) in a [SupercellSet](https://prisms-center.github.io/CASMcode_pydocs/libcasm/configuration/2.0/reference/libcasm/_autosummary/libcasm.configuration.SupercellSet.html#supercellset). Each SupercellRecord includes a [Supercell](https://prisms-center.github.io/CASMcode_pydocs/libcasm/configuration/2.0/reference/libcasm/_autosummary/libcasm.configuration.Supercell.html#supercell) and some additional information about the supercell, including a [supercell_name]() string which is used as an identifier.\n",
    "\n",
    "A SupercellSet:\n",
    "\n",
    "- does not keep multiple SupercellRecord for supercells that have the same superlattice vectors;\n",
    "- does allow storing separate SupercellRecord for supercells which are distinct (have different superlattice vectors) but are symmetrically equivalent (superlattice points are mapped by a crystal group operation).\n",
    "\n",
    "Iterating over a [SupercellSet](https://prisms-center.github.io/CASMcode_pydocs/libcasm/configuration/2.0/reference/libcasm/_autosummary/libcasm.configuration.SupercellSet.html#supercellset) yields [SupercellRecord](https://prisms-center.github.io/CASMcode_pydocs/libcasm/configuration/2.0/reference/libcasm/_autosummary/libcasm.configuration.SupercellRecord.html#supercellrecord). Each SupercellRecord includes a [Supercell](https://prisms-center.github.io/CASMcode_pydocs/libcasm/configuration/2.0/reference/libcasm/_autosummary/libcasm.configuration.Supercell.html#supercell) and some additional information about the Supercell."
   ]
  },
  {
   "cell_type": "code",
   "execution_count": null,
   "id": "02fb75f5-74d3-4681-a5b0-e3230023d8b5",
   "metadata": {},
   "outputs": [],
   "source": [
    "# Iterate over the first three SupercellRecord\n",
    "# in the SupercellSet and print the record\n",
    "for i, record in enumerate(project.enum.last.supercell_set):\n",
    "    print(record)\n",
    "    if i == 2:\n",
    "        break"
   ]
  },
  {
   "cell_type": "markdown",
   "id": "8279693d-0121-4a79-8372-7c4b440f56ad",
   "metadata": {},
   "source": [
    "#### Storing multiple enumerations\n",
    "\n",
    "Enumerations are stored in directories based on their id string. If an id is not given, or has value None, a new enumeration is automatically generated in sequential order. If the id of an existing enumeration is given, that enumeration is updated with any additional supercells generated.\n"
   ]
  },
  {
   "cell_type": "code",
   "execution_count": null,
   "id": "df5053a4-c3ce-42fa-aedd-df5713563982",
   "metadata": {},
   "outputs": [],
   "source": [
    "# Enumerate supercells with volume 3 to 5\n",
    "project.enum.supercells_by_volume(max=5, min=3, id=\"supercells_by_volume.2\")\n",
    "print()\n",
    "print(project.enum.last)"
   ]
  },
  {
   "cell_type": "markdown",
   "id": "1f374fae-99f0-431d-a07b-0062ef7a3607",
   "metadata": {},
   "source": [
    "### Configuration enumeration\n",
    "\n",
    "#### Enumerating configurations by supercell\n",
    "\n",
    "The method [enum.occ_by_supercell]() enumerates all occupations in supercells ranging from a minimum to a maximum volume. All configurations are guaranteed to be in a canonical supercell. By default it:\n",
    "\n",
    "- only outputs primitive configurations,\n",
    "- only outputs configurations in canonical form (the configuration that compares greatest to all configurations in a supercell that can be mapped by symmetry operations).\n",
    "\n",
    "With these defaults, if enumeration proceeds without skipping supercells, all symmetrically distinct configurations will be enumerated.\n",
    "\n",
    "As with enum.supercells_by_volume it also has additional options, described in the reference documentation, for more complex use cases:\n",
    "\n",
    "- Enumerate occupations in supercells of another supercell\n",
    "- Enumerate occupations in 1d or 2d supercells\n",
    "- Enumerate occupations in supercells with a fixed shape but different sizes\n",
    "\n",
    "**Warning**: The number of possible occupations in a $n$-component alloy with $m$ sites is $n^m$. Take care not to request too large of an enumeration. \n",
    "    "
   ]
  },
  {
   "cell_type": "code",
   "execution_count": null,
   "id": "30628ab0-2b3b-44ba-9965-4c5391f2463d",
   "metadata": {
    "scrolled": true
   },
   "outputs": [],
   "source": [
    "# Enumerate configurations in supercells with volume 1 to 4\n",
    "project.enum.occ_by_supercell(\n",
    "    max=4,\n",
    "    min=1,\n",
    "    id=\"occ_by_supercell.1\",\n",
    ")"
   ]
  },
  {
   "cell_type": "markdown",
   "id": "c13a0a38-0c43-4325-9eba-5d65991b6640",
   "metadata": {},
   "source": [
    "#### ConfigurationSet\n",
    "\n",
    "The configurations enumerated by [enum.occ_by_supercell]() are stored as [ConfigurationRecord](https://prisms-center.github.io/CASMcode_pydocs/libcasm/configuration/2.0/reference/libcasm/_autosummary/libcasm.configuration.ConfigurationRecord.html#configurationrecord) in a [ConfigurationSet](https://prisms-center.github.io/CASMcode_pydocs/libcasm/configuration/2.0/reference/libcasm/_autosummary/libcasm.configuration.ConfigurationSet.html#configurationset). Each ConfigurationRecord includes a [Configuration](https://prisms-center.github.io/CASMcode_pydocs/libcasm/configuration/2.0/reference/libcasm/_autosummary/libcasm.configuration.Configuration.html#configuration) and some additional information about the configuration, including a [configuration_name]() string which is used as an identifier.\n",
    "\n",
    "A ConfigurationSet:\n",
    "\n",
    "- requires configuration be in a canonical supercell;\n",
    "- does not keep multiple ConfigurationRecord for configurations that have the same DoF values;\n",
    "- does allow storing separate ConfigurationRecord for configurations which are distinct (have different DoF values) but are symmetrically equivalent (DoF values are mapped by a symmetry operation).\n",
    "- users are responsible for placing any other constraints (canonical configurations only, primitive configurations only, etc.) on which configuration are added to ConfigurationSet.\n",
    "\n",
    "**Warning**: ConfigurationSet is optimized for finding unique configurations using canonical supercells. Users must ensure that configuration added to ConfigurationSet are in a canonical supercell. This is not checked by ConfigurationSet but required to ensure proper configuration naming, serialization, and deserialization. Configurations that are not in a canonical supercell should be stored in a list or some other data structure.\n",
    "\n",
    "Iterating over a [ConfigurationSet](https://prisms-center.github.io/CASMcode_pydocs/libcasm/configuration/2.0/reference/libcasm/_autosummary/libcasm.configuration.ConfigurationSet.html#configurationset) yields [ConfigurationRecord](https://prisms-center.github.io/CASMcode_pydocs/libcasm/configuration/2.0/reference/libcasm/_autosummary/libcasm.configuration.ConfigurationRecord.html#configurationrecord)."
   ]
  },
  {
   "cell_type": "code",
   "execution_count": null,
   "id": "aacb13af-a26e-4aa9-9c14-c76e4f69fab3",
   "metadata": {},
   "outputs": [],
   "source": [
    "# Iterate over the first three ConfigurationRecord\n",
    "# in the ConfigurationSet and print the record\n",
    "for i, record in enumerate(project.enum.last.configuration_set):\n",
    "    print(record)\n",
    "    if i == 2:\n",
    "        break"
   ]
  },
  {
   "cell_type": "markdown",
   "id": "523c7da5-0ccc-4f1a-b52b-c74c045a2c46",
   "metadata": {},
   "source": [
    "#### Conversion to structure\n",
    "\n",
    "The [Configuration.to_structure]() methods convert a CASM [Configuration]() to a CASM [Structure](). A Structure:\n",
    "\n",
    "- represents a crystal structure with a 3d lattice,\n",
    "- is not restricted to the DoF values allowed by a prim,\n",
    "- has built in methods for conversions to and from VASP POSCAR format."
   ]
  },
  {
   "cell_type": "code",
   "execution_count": null,
   "id": "63891472-8d65-42b6-8ad7-6aed2fb82435",
   "metadata": {},
   "outputs": [],
   "source": [
    "# Iterate over the first three ConfigurationRecord\n",
    "# in the ConfigurationSet and print the record\n",
    "for i, record in enumerate(project.enum.last.configuration_set):\n",
    "    name = record.configuration_name\n",
    "    structure = record.configuration.to_structure()\n",
    "    poscar_str = structure.to_poscar_str(title=name)\n",
    "\n",
    "    print(\"~~~\")\n",
    "    print(f\"Configuration: {name}\")\n",
    "    print(f\"Structure: {structure}\")\n",
    "    print(f\"POSCAR:\\n{poscar_str}\", end=\"\")\n",
    "    if i == 2:\n",
    "        break"
   ]
  },
  {
   "cell_type": "markdown",
   "id": "0f7cb9fb-6dc2-4f17-9c63-3b88c15936fe",
   "metadata": {},
   "source": [
    "#### Filtered enumeration\n",
    "\n",
    "A custom filter function may be used to filter configurations during enumeration. Here we:\n",
    "\n",
    "- use [ConfigCompositionCalculator]() to calculate the number of each type of atom in the supercell,\n",
    "- keep configurations that have exactly 2 Ge,\n",
    "- use ``dry_run=True``so the enumeration is not committed automatically."
   ]
  },
  {
   "cell_type": "code",
   "execution_count": null,
   "id": "9bc8038d-e790-465d-bb96-edb59da2476b",
   "metadata": {
    "scrolled": true
   },
   "outputs": [],
   "source": [
    "# Enumerate configurations:\n",
    "# - in supercells with volume 1 to 3\n",
    "# - with exactly 2 Ge atoms in the supercell\n",
    "\n",
    "from libcasm.configuration import (\n",
    "    Configuration,\n",
    "    SupercellRecord,\n",
    ")\n",
    "from casm.project import EnumData\n",
    "\n",
    "# Get the casm.project.ConfigCompositionCalculator\n",
    "comp = project.chemical_composition\n",
    "\n",
    "# Get the index of Ge in the composition arrays\n",
    "i_Ge = comp.components.index(\"Ge\")\n",
    "\n",
    "# Print each check?\n",
    "verbose_checks = True\n",
    "\n",
    "\n",
    "def filter_f(config: Configuration, enum_data: EnumData) -> bool:\n",
    "    \"\"\"Return True to include; False to exclude\"\"\"\n",
    "\n",
    "    # Get number of Ge in the supercell\n",
    "    N_Ge = comp.per_supercell(config)[i_Ge]\n",
    "\n",
    "    # Print info about the config being checked\n",
    "    if verbose_checks:\n",
    "        record = SupercellRecord(config.supercell)\n",
    "        print(\n",
    "            f\"~check~ {record.supercell_name}\",\n",
    "            config.occupation,\n",
    "            f\"include?: {N_Ge == 2}\",\n",
    "        )\n",
    "    return N_Ge == 2\n",
    "\n",
    "\n",
    "project.enum.occ_by_supercell(\n",
    "    max=3,\n",
    "    min=1,\n",
    "    filter_f=filter_f,\n",
    "    verbose=True,\n",
    "    dry_run=True,\n",
    ")"
   ]
  },
  {
   "cell_type": "markdown",
   "id": "44109354-53e0-4ae2-b14c-d59250285c8d",
   "metadata": {},
   "source": [
    "### Acting on enumeration data\n",
    "\n",
    "This section provides a reference for various actions that can be performed on enumerations, and may be skipped for the Si-Ge demonstration project.\n",
    "\n",
    "#### Get an enumeration by id\n",
    "\n",
    "- Also, update enumeration metadata and commit."
   ]
  },
  {
   "cell_type": "code",
   "execution_count": null,
   "id": "88912089-518b-43c8-b83b-df761f960ae1",
   "metadata": {},
   "outputs": [],
   "source": [
    "enum_data = project.enum.get(\"supercells_by_volume.1\")\n",
    "enum_data.meta = {\"desc\": \"Initial supercell enumeration\"}\n",
    "enum_data.commit()\n",
    "print(enum_data)"
   ]
  },
  {
   "cell_type": "markdown",
   "id": "c3362f1d-289b-4716-92e0-4d3bc2eba15b",
   "metadata": {},
   "source": [
    "#### List all enumerations\n",
    "\n",
    "- Print a summary of each enumeration in the project"
   ]
  },
  {
   "cell_type": "code",
   "execution_count": null,
   "id": "71095a3b-5524-4976-ab14-f3d1306eb456",
   "metadata": {},
   "outputs": [],
   "source": [
    "project.enum.list()"
   ]
  },
  {
   "cell_type": "markdown",
   "id": "1d3ab3a3-be24-4b70-b05e-1592a0672a31",
   "metadata": {},
   "source": [
    "#### Copy an enumeration\n",
    "\n",
    "- Will raise if the destination enumeration already exists"
   ]
  },
  {
   "cell_type": "code",
   "execution_count": null,
   "id": "4cafa47e-e780-4554-9d41-91c61c34815e",
   "metadata": {},
   "outputs": [],
   "source": [
    "project.enum.copy(\n",
    "    src_id=\"supercells_by_volume.2\",\n",
    "    dest_id=\"supercells_by_volume.3\",\n",
    ")\n",
    "project.enum.list()"
   ]
  },
  {
   "cell_type": "markdown",
   "id": "f0b13b9e-7cd5-4fb9-a639-cacf53ed6176",
   "metadata": {},
   "source": [
    "#### Merge enumerations\n",
    "\n",
    "- Supercells and configurations in source enumeration sets are inserted into the destination enumeration sets.\n",
    "- Supercells and configurations in source enumeration lists are appended to the destination enumeration lists if they are not already present."
   ]
  },
  {
   "cell_type": "code",
   "execution_count": null,
   "id": "d152cc61-90f6-4845-9e14-a79546ae5e1f",
   "metadata": {},
   "outputs": [],
   "source": [
    "project.enum.merge(\n",
    "    src_id=\"supercells_by_volume.1\",\n",
    "    dest_id=\"supercells_by_volume.3\",\n",
    ")\n",
    "project.enum.list()"
   ]
  },
  {
   "cell_type": "markdown",
   "id": "2d585359-d6da-4105-911a-723ebf40fcfb",
   "metadata": {},
   "source": [
    "#### Remove an enumeration\n",
    "\n",
    "- Will raise if the enumeration does not exist"
   ]
  },
  {
   "cell_type": "code",
   "execution_count": null,
   "id": "71f1525f-6f46-4b9f-a40b-6fcca001f3c8",
   "metadata": {},
   "outputs": [],
   "source": [
    "project.enum.remove(\"supercells_by_volume.3\")\n",
    "project.enum.list()"
   ]
  },
  {
   "cell_type": "markdown",
   "id": "4ae757b3-3d75-4413-b97a-ca0fb66aeb93",
   "metadata": {},
   "source": [
    "## Calculation\n",
    "\n",
    "The calculation process described here involves the following conversions:\n",
    "\n",
    "    libcasm.configuration.Configuration \n",
    "    -> libcasm.xtal.Structure \n",
    "    -> ase.Atoms \n",
    "    -> VASP input files (POSCAR, KPOINTS, INCAR, POTCAR)\n",
    "\n",
    "- CASM provides some standard directory structures for saving input files.\n",
    "- CASM provides a very simple integration to [The Atomic Simulation Environment (ase)](https://wiki.fysik.dtu.dk/ase/index.html) which can be customized for a particular use case.\n",
    "- Users can customize the input file generation for other DFT codes.\n"
   ]
  },
  {
   "cell_type": "markdown",
   "id": "a9f473e2-468c-4bcc-98d3-e2bfd7edbf63",
   "metadata": {},
   "source": [
    "### Calculation settings for ASE + VASP\n",
    "\n",
    "Write settings to [project.dir.calctype_settings_dir_v2]():\n",
    "\n",
    "    <project>/calculation_settings/calctype.<calctype_id>/\n",
    "\n",
    "- The settings files are calculation type dependent.\n",
    "- Any necessary files can go in the calculation settings directory.\n"
   ]
  },
  {
   "cell_type": "code",
   "execution_count": null,
   "id": "232b5e94-995e-4543-907b-5cc3fd1445f9",
   "metadata": {},
   "outputs": [],
   "source": [
    "import os\n",
    "\n",
    "# Give your calculation settings a name\n",
    "calctype_id = \"vasp.default\"\n",
    "\n",
    "# Make a calculation settings directory\n",
    "calctype_settings_dir = project.dir.calctype_settings_dir_v2(\n",
    "    calctype=calctype_id,\n",
    ")\n",
    "calctype_settings_dir.mkdir(parents=True, exist_ok=True)\n",
    "\n",
    "# !! CHANGE THIS AS NECESSARY !!\n",
    "with open(calctype_settings_dir / \"INCAR\", \"w\") as f:\n",
    "    f.write(\n",
    "        \"\"\"ISPIN = 1 #does non spin-polarized calc.\n",
    "PREC = Accurate #cutoff + wrap around errors.\n",
    "IBRION= 2 #conj. grad. relaxation.\n",
    "NSW=61 #numberof ionic steps taken in minimization. Make it odd.\n",
    "ISIF= 3 #whether stress tensor is calculated, what is allowed to relax.\n",
    "ENMAX=600 #cutoff\n",
    "ISMEAR = 1 #BZ integration method (for relaxation runs).\n",
    "SIGMA = 0.2 #smearing width (keep T*S < 1meV/atom). \n",
    "LWAVE = .FALSE.\n",
    "LCHARG = .FALSE.\n",
    "\"\"\"\n",
    "    )\n",
    "\n",
    "# !! CHANGE THIS AS NECESSARY !!\n",
    "with open(calctype_settings_dir / \"KPOINTS\", \"w\") as f:\n",
    "    f.write(\n",
    "        \"\"\"Fully automatic mesh\n",
    "0              ! 0 -> automatic generation scheme \n",
    "Auto           ! fully automatic\n",
    "  10           ! length (R_k)\n",
    "\"\"\"\n",
    "    )\n",
    "\n",
    "# !! CHANGE THIS AS NECESSARY !!\n",
    "# Save pseuodopotential and xc settings\n",
    "ase_vasp_settings = {\n",
    "    \"setups\": {\n",
    "        \"Si\": \"\",\n",
    "        \"Ge\": \"_d\",\n",
    "    },\n",
    "    \"xc\": \"pbe\",\n",
    "}\n",
    "safe_dump(ase_vasp_settings, calctype_settings_dir / \"ase_vasp.json\", force=True)\n",
    "\n",
    "# !! CHANGE THIS AS NECESSARY !!\n",
    "# Set VASP_PP_PATH\n",
    "vasp_pp_path = input_dir / \"dummy_vasp_potentials/\"\n",
    "os.environ[\"VASP_PP_PATH\"] = str(vasp_pp_path.resolve())"
   ]
  },
  {
   "cell_type": "markdown",
   "id": "7a1205e6-d350-4986-944b-a82da26fdbdf",
   "metadata": {},
   "source": [
    "### Generate VASP input files\n",
    "\n",
    "The calculation directories created will be at:\n",
    "\n",
    "    <enum_dir>/training_data/<configname>/calctype.<calctype_id>/\n",
    "\n",
    "Where\n",
    "\n",
    "    <enum_dir> = <project>/enumerations/enum.<enum_id>/\n",
    "\n"
   ]
  },
  {
   "cell_type": "code",
   "execution_count": null,
   "id": "b3605b91-0b91-48ae-a8f4-7c894986e764",
   "metadata": {
    "scrolled": true
   },
   "outputs": [],
   "source": [
    "import casm.project.ase_utils as ase_utils\n",
    "from casm.project.json_io import read_required, printpathstr\n",
    "\n",
    "# Enumeration ID & Calculation type ID to use\n",
    "enum_id = \"occ_by_supercell.1\"\n",
    "calctype_id = \"vasp.default\"\n",
    "\n",
    "# Location for VASP input files:\n",
    "calctype_settings_dir = project.dir.calctype_settings_dir_v2(calctype_id)\n",
    "\n",
    "# Read pseuodopotential and xc settings\n",
    "ase_vasp_settings = read_required(calctype_settings_dir / \"ase_vasp.json\")\n",
    "\n",
    "# Construct AseVaspTool\n",
    "ase_vasp_tool = ase_utils.AseVaspTool(\n",
    "    calctype_settings_dir=calctype_settings_dir,\n",
    "    setups=ase_vasp_settings.get(\"setups\"),\n",
    "    xc=ase_vasp_settings.get(\"xc\"),\n",
    ")\n",
    "\n",
    "# Get the enumeration data\n",
    "enum_data = project.enum.get(enum_id)\n",
    "\n",
    "# Iterate over ConfigurationSet and write VASP input files using ase\n",
    "print(f\"Setting up {len(enum_data.configuration_set)} calculations...\")\n",
    "for record in enum_data.configuration_set:\n",
    "    print(\"~~~\")\n",
    "    calc_dir = project.dir.enum_calctype_dir(  #\n",
    "        enum=enum_id,\n",
    "        configname=record.configuration_name,\n",
    "        calctype=calctype_id,\n",
    "    )\n",
    "    ase_vasp_tool.setup(\n",
    "        casm_structure=record.configuration.to_structure(),\n",
    "        calc_dir=calc_dir,\n",
    "    )\n",
    "    files = os.listdir(calc_dir)\n",
    "    print(\"calc_dir:\", printpathstr(calc_dir))\n",
    "    print(\"files:\", files)"
   ]
  },
  {
   "cell_type": "markdown",
   "id": "e53b39d0-e644-4890-9a39-e8d3e066e72d",
   "metadata": {},
   "source": [
    "### Running Calculations\n",
    "\n",
    "Some tools that help run calculations:\n",
    "\n",
    "- [The Atomic Simulation Environment (ase)](https://wiki.fysik.dtu.dk/ase/index.html)\n",
    "- [pymatgen](https://pymatgen.org/)\n",
    "- [signac](https://signac.io/)\n",
    "- [row](https://row.readthedocs.io/en/0.2.0/)\n"
   ]
  },
  {
   "cell_type": "markdown",
   "id": "5786e57f-0b92-430f-8066-5d49fdd7da7e",
   "metadata": {},
   "source": [
    "### Make CASM structures with properties\n",
    "\n",
    "After running the calculations, construct CASM [Structure](https://prisms-center.github.io/CASMcode_pydocs/libcasm/xtal/2.0/reference/libcasm/_autosummary/libcasm.xtal.Structure.html#structure) with the calculated properties (energy, relaxed lattice, relaxed atom coordinates) and save as files named \"properties.calc.json\".\n",
    "\n",
    "[CASM recognized properties](https://prisms-center.github.io/CASMcode_docs/formats/dof_and_properties/) can be transformed by symmetry operations and imported.\n",
    "\n",
    "Example [JSON representation of structure properties](https://prisms-center.github.io/CASMcode_docs/formats/casm/crystallography/SimpleStructure/):\n",
    "\n",
    "    \"global_properties\": {\n",
    "        \"energy\": {\n",
    "            \"value\": [-37.82958967]\n",
    "        }\n",
    "    }\n",
    "    \n",
    "    \"atom_properties\": {\n",
    "        \"force\": {\n",
    "            \"value\": [\n",
    "                [0.00029669, -8.18e-06, 0.00029669],\n",
    "                [0.0, 0.00022049, 0.0],\n",
    "                [-0.00029669, -8.18e-06, -0.00029669],\n",
    "                [0.00029669, 8.18e-06, 0.00029669],\n",
    "                [0.0, -0.00022049, 0.0],\n",
    "                [-0.00029669, 8.18e-06, -0.00029669],\n",
    "                [0.0, -0.00014681, 0.0],\n",
    "                [0.0, 0.00014681, 0.0]\n",
    "            ]\n",
    "        }\n",
    "    }\n",
    "\n",
    "Here we unzip pre-calculated calculations and read in all the \"properties.calc.json\" files as CASM [Structure](https://prisms-center.github.io/CASMcode_pydocs/libcasm/xtal/2.0/reference/libcasm/_autosummary/libcasm.xtal.Structure.html#structure) with properties."
   ]
  },
  {
   "cell_type": "markdown",
   "id": "fc79a226-572a-4f29-9011-297f13ca0aef",
   "metadata": {},
   "source": [
    "## Import and Mapping\n",
    "\n",
    "### Overview\n",
    "\n",
    "The import and mapping process is essentially the reverse of the calculation setup process:\n",
    "\n",
    "    VASP output files (vasprun.xml)\n",
    "    -> ase.Atoms\n",
    "    -> libcasm.xtal.Structure \n",
    "    -> libcasm.configuration.Configuration \n",
    "\n",
    "However, while the Configuration -> Structure conversion is deterministic, the relaxed Structure -> Configuration mapping is not. \n",
    "\n",
    "When performing mappings, the term \"parent structure\" is used for ideal superstructures of the prim (the Configuration being mapped to), and \"child structure\" is used for the (possible relaxed) structure being mapped.\n",
    "\n",
    "CASM provides several methods to systematically check and score possible mappings:\n",
    "\n",
    "- [map_structures](https://prisms-center.github.io/CASMcode_pydocs/libcasm/mapping/2.0/reference/libcasm/_autosummary/libcasm.mapping.methods.map_structures.html#map-structures):\n",
    "  - A very general structure mapping method.\n",
    "  - Proposes and checks [StructureMapping](https://prisms-center.github.io/CASMcode_pydocs/libcasm/mapping/2.0/reference/libcasm/_autosummary/libcasm.mapping.info.StructureMapping.html#structuremapping) of parent structures to a child structure for a range of parent supercell volumes and lattice vector reorientations, allowing combinations of rigid rotation, translation, lattice strain, and atom displacement.\n",
    "  - Roughly, the approach is to first propose and check lattice mappings, and then propose and check atom mappings.\n",
    "  - Mappings are scored using a weighted sum of lattice strain cost and atomic displacement cost metrics.\n",
    "- [map_lattices](https://prisms-center.github.io/CASMcode_pydocs/libcasm/mapping/2.0/reference/libcasm/_autosummary/libcasm.mapping.methods.map_lattices.html#map-lattices):\n",
    "  - A lattice mapping method for when the parent superstructure lattice is not known.\n",
    "  - Proposes and checks [LatticeMapping](https://prisms-center.github.io/CASMcode_pydocs/libcasm/mapping/2.0/reference/libcasm/_autosummary/libcasm.mapping.info.LatticeMapping.html#latticemapping) from parent superstructures to the child structure considering reorientations of the parent lattice vectors.\n",
    "  - Scores mappings using a lattice strain cost metric.\n",
    "  - This method is often used inside a loop over parent superstructures.\n",
    "- [map_lattices_without_reorientation](https://prisms-center.github.io/CASMcode_pydocs/libcasm/mapping/2.0/reference/libcasm/_autosummary/libcasm.mapping.methods.map_lattices_without_reorientation.html#map-lattices-without-reorientation):\n",
    "  - A lattice mapping method for when the parent superstructure lattice is known.\n",
    "  - Constructs a [LatticeMapping](https://prisms-center.github.io/CASMcode_pydocs/libcasm/mapping/2.0/reference/libcasm/_autosummary/libcasm.mapping.info.LatticeMapping.html#latticemapping) from the parent superstructure lattice to the child lattice by calculating the lattice deformation gradient directly, without any reorientation of the lattice vectors.\n",
    "  - Does not score the mapping, but [isotropic_strain_cost](https://prisms-center.github.io/CASMcode_pydocs/libcasm/mapping/2.0/reference/libcasm/_autosummary/libcasm.mapping.info.isotropic_strain_cost.html#isotropic-strain-cost) and [symmetry_breaking_strain_cost](https://prisms-center.github.io/CASMcode_pydocs/libcasm/mapping/2.0/reference/libcasm/_autosummary/libcasm.mapping.info.symmetry_breaking_strain_cost.html#symmetry-breaking-strain-cost) can be used independently.\n",
    "  - This method is useful when CASM enumerated the initial configuration used for the calculation input.\n",
    "- [map_atoms](https://prisms-center.github.io/CASMcode_pydocs/libcasm/mapping/2.0/reference/libcasm/_autosummary/libcasm.mapping.methods.map_atoms.html#map-atoms):\n",
    "  - An atom mapping method for when the lattice mapping is known.\n",
    "  - Proposes and scores [AtomMapping](https://prisms-center.github.io/CASMcode_pydocs/libcasm/mapping/2.0/reference/libcasm/_autosummary/libcasm.mapping.info.AtomMapping.html#atommapping) displacements from sites to atoms, considering the distinct translations of child atoms to parent structure sublattices.\n",
    "  - Scores mappings using a atomic displacement cost metric.\n",
    "  - This method can be used in combination with map_lattices or map_lattices_without_reorientation to get a complete [StructureMapping]().\n",
    "- The [mapsearch subpackage](https://prisms-center.github.io/CASMcode_pydocs/libcasm/mapping/2.0/reference/libcasm/_autosummary/libcasm.mapping.mapsearch.html#module-libcasm.mapping.mapsearch):\n",
    "  - Enables the construction of a custom mapping search algorithm.\n",
    "  - A tutorial on using [libcasm.mapping.mapsearch](https://prisms-center.github.io/CASMcode_pydocs/libcasm/mapping/2.0/reference/libcasm/_autosummary/libcasm.mapping.mapsearch.html#module-libcasm.mapping.mapsearch) is coming soon.\n",
    "\n",
    "The mapping methods are described in the paper [Thomas, Natarajan, and Van der Ven, npj Computational Materials, 7 (2021), 164](https://doi.org/10.1038/s41524-021-00627-0)."
   ]
  },
  {
   "cell_type": "markdown",
   "id": "7c46d638-ffbe-40bd-be61-1a1f6835f729",
   "metadata": {},
   "source": [
    "### Collect calculated structures"
   ]
  },
  {
   "cell_type": "code",
   "execution_count": null,
   "id": "82fe886f-5a05-4250-a946-f3980003226f",
   "metadata": {
    "scrolled": true
   },
   "outputs": [],
   "source": [
    "import zipfile\n",
    "\n",
    "# Unzip precalculated data to data_dir\n",
    "zip_path = input_dir / \"SiGe_occ_training_data.zip\"\n",
    "data_dir = project.path / \"precalculated\"\n",
    "with zipfile.ZipFile(zip_path, \"r\") as zip_ref:\n",
    "    zip_ref.extractall(data_dir)\n",
    "\n",
    "## Collect for \"properties.calc.json\" files in calculated ##\n",
    "calculated = []\n",
    "\n",
    "\n",
    "def collect(path: pathlib.Path):\n",
    "    struc_data = read_required(path)\n",
    "    struc = xtal.Structure.from_dict(struc_data)\n",
    "    calculated.append(\n",
    "        {\n",
    "            \"calculated_structure\": struc,\n",
    "            \"path\": str(path),\n",
    "        }\n",
    "    )\n",
    "\n",
    "\n",
    "# Crawl data_dir and collect \"properties.calc.json files\n",
    "for root, dirs, files in os.walk(data_dir):\n",
    "    for filename in files:\n",
    "        if filename == \"properties.calc.json\":\n",
    "            collect(pathlib.Path(root) / filename)\n",
    "\n",
    "# Print structures with calculated energies\n",
    "for i, x in enumerate(calculated):\n",
    "    print(f\"--- structure {i} ---\")\n",
    "    print(x.get(\"path\"))\n",
    "    print(x.get(\"calculated_structure\"))\n",
    "    print()"
   ]
  },
  {
   "cell_type": "markdown",
   "id": "caa96e99-10ef-4c10-9e5b-8848dcf00f11",
   "metadata": {},
   "source": [
    "### Map structures to configurations\n",
    "\n",
    "- Here we just find and keep the best mapping.\n",
    "- In some cases, additional next-best mappings may be kept."
   ]
  },
  {
   "cell_type": "code",
   "execution_count": null,
   "id": "0eb21dd0-e865-49a0-8811-96ba389367fe",
   "metadata": {},
   "outputs": [],
   "source": [
    "import libcasm.mapping.methods as mapmethods\n",
    "\n",
    "# Collect results here:\n",
    "failed_structures = []\n",
    "mapped_structures = []\n",
    "\n",
    "for i, x in enumerate(calculated):\n",
    "    # Structure to map\n",
    "    structure = x.get(\"calculated_structure\")\n",
    "    structure_fg = xtal.make_structure_factor_group(structure)\n",
    "\n",
    "    # no vacancies, exact volume\n",
    "    xtal_prim = project.prim.xtal_prim\n",
    "    vol = int(len(structure.atom_type()) / len(xtal_prim.occ_dof()))\n",
    "\n",
    "    # find mappings\n",
    "    mappings = mapmethods.map_structures(\n",
    "        prim=xtal_prim,\n",
    "        structure=structure,\n",
    "        max_vol=vol,\n",
    "        prim_factor_group=project.prim.factor_group.elements,\n",
    "        structure_factor_group=structure_fg,\n",
    "        min_vol=vol,\n",
    "        min_cost=0.0,\n",
    "        max_cost=1e20,\n",
    "        lattice_cost_weight=0.5,\n",
    "        lattice_cost_method=\"isotropic_strain_cost\",\n",
    "        atom_cost_method=\"isotropic_disp_cost\",\n",
    "        k_best=1,\n",
    "    )\n",
    "\n",
    "    # Check mapping results:\n",
    "    if len(mappings) == 0:\n",
    "        failed_structures.append(x)\n",
    "    else:\n",
    "        result = {\n",
    "            # Keep the best one:\n",
    "            \"scored_structure_mapping\": mappings[0],\n",
    "        }\n",
    "        result.update(x)\n",
    "        mapped_structures.append(result)\n",
    "\n",
    "print(\"Finished mapping structures:\")\n",
    "print(f\"- # Successful mappings: {len(mapped_structures)}\")\n",
    "print(f\"- # Failed mappings: {len(failed_structures)}\")"
   ]
  },
  {
   "cell_type": "markdown",
   "id": "e2a0a352-481d-43a1-bc7f-7fd7b8c6ad63",
   "metadata": {},
   "source": [
    "### Convert mapped configurations with properties"
   ]
  },
  {
   "cell_type": "code",
   "execution_count": null,
   "id": "53dfd752-e0da-4fba-9613-6215c1fabcaa",
   "metadata": {
    "scrolled": true
   },
   "outputs": [],
   "source": [
    "from libcasm.configuration import (\n",
    "    ConfigurationSet,\n",
    "    ConfigurationWithProperties,\n",
    "    make_canonical_configuration,\n",
    ")\n",
    "\n",
    "# Make mapped structures,\n",
    "# from calculated structure and structure mapping,\n",
    "# then make ConfigurationWithProperties\n",
    "configuration_set = ConfigurationSet()\n",
    "for i, x in enumerate(mapped_structures):\n",
    "    print(f\"--- structure {i} ---\")\n",
    "    print(x.get(\"path\"))\n",
    "\n",
    "    # Apply structure mapping to make mapped structure\n",
    "    mapped_structure = mapmethods.make_mapped_structure(\n",
    "        structure_mapping=x.get(\"scored_structure_mapping\"),\n",
    "        unmapped_structure=x.get(\"calculated_structure\"),\n",
    "    )\n",
    "    x[\"mapped_structure\"] = mapped_structure\n",
    "\n",
    "    # Convert mapped structure to a ConfigurationWithProperties\n",
    "    mapped_config_with_props = ConfigurationWithProperties.from_structure(\n",
    "        prim=project.prim,\n",
    "        structure=mapped_structure,\n",
    "        supercells=enum_data.supercell_set,\n",
    "    )\n",
    "    print(\"Mapped configuration with properties:\", mapped_config_with_props)\n",
    "    mapped_canonical_config = make_canonical_configuration(\n",
    "        mapped_config_with_props.configuration,\n",
    "        in_canonical_supercell=True,\n",
    "    )\n",
    "    energy = mapped_config_with_props.scalar_global_property_value(\"energy\")\n",
    "    x[\"mapped_configuration_with_properties\"] = mapped_config_with_props\n",
    "\n",
    "    record = configuration_set.add(mapped_canonical_config)\n",
    "    x[\"canonical_configuration_name\"] = record.configuration_name\n",
    "    print(f\"canonical_form={record.configuration_name}, energy={energy}\")\n",
    "    print()\n",
    "\n",
    "print(\"Finished making mapped configuration:\")\n",
    "print(f\"- # of mapped structures: {len(mapped_structures)}\")\n",
    "print(f\"- # of mapped configurations: {len(configuration_set)}\")"
   ]
  },
  {
   "cell_type": "code",
   "execution_count": null,
   "id": "eaae13b9-e18d-4480-82f3-1dd7e41b6755",
   "metadata": {},
   "outputs": [],
   "source": [
    "# Just a useful function for plot formatting #\n",
    "from bokeh.io import output_notebook\n",
    "\n",
    "output_notebook()\n",
    "\n",
    "\n",
    "def format_plot(p):\n",
    "    # p.xaxis.axis_label = x_label\n",
    "    # p.yaxis.axis_label = y_label\n",
    "\n",
    "    font_size_1 = \"14pt\"\n",
    "    font_size_2 = \"10pt\"\n",
    "    font_name = \"helvetica\"\n",
    "\n",
    "    p.title.text_font = font_name\n",
    "    p.title.text_font_size = font_size_1\n",
    "\n",
    "    p.xaxis.axis_label_text_font = font_name\n",
    "    p.xaxis.axis_label_text_font_size = font_size_1\n",
    "    p.xaxis.major_label_text_font = font_name\n",
    "    p.xaxis.major_label_text_font_size = font_size_2\n",
    "\n",
    "    p.yaxis.axis_label_text_font = font_name\n",
    "    p.yaxis.axis_label_text_font_size = font_size_1\n",
    "    p.yaxis.major_label_text_font = font_name\n",
    "    p.yaxis.major_label_text_font_size = font_size_2"
   ]
  },
  {
   "cell_type": "markdown",
   "id": "a3a4b728-c1be-4939-a0b2-378bc8546d12",
   "metadata": {},
   "source": [
    "### Plot lattice and strain mapping costs\n"
   ]
  },
  {
   "cell_type": "code",
   "execution_count": null,
   "id": "0ad5417e-67f3-492a-9832-5b670f0decc6",
   "metadata": {},
   "outputs": [],
   "source": [
    "from bokeh.plotting import figure, show\n",
    "from bokeh.io import output_notebook\n",
    "from bokeh.models import ColumnDataSource\n",
    "import numpy as np\n",
    "\n",
    "names = []\n",
    "for x in mapped_structures:\n",
    "    relpath = pathlib.Path(x[\"path\"]).relative_to(data_dir)\n",
    "    names.append(os.path.join(*relpath.parts[1:3]))\n",
    "\n",
    "all_scores = [x[\"scored_structure_mapping\"] for x in mapped_structures]\n",
    "total_cost = np.array([x.total_cost() for x in all_scores])\n",
    "lattice_cost = np.array([x.lattice_cost() for x in all_scores])\n",
    "atom_cost = np.array([x.atom_cost() for x in all_scores])\n",
    "\n",
    "data = {\n",
    "    \"names\": names,\n",
    "    \"total_cost\": total_cost,\n",
    "    \"lattice_cost\": lattice_cost,\n",
    "    \"atom_cost\": atom_cost,\n",
    "}\n",
    "tooltips = [\n",
    "    (\"name\", \"@names\"),\n",
    "    (\"total_cost\", \"@total_cost\"),\n",
    "    (\"lattice_cost\", \"@lattice_cost\"),\n",
    "    (\"atom_cost\", \"@atom_cost\"),\n",
    "]\n",
    "source = ColumnDataSource(data)\n",
    "\n",
    "p = figure(width=600, height=400, tooltips=tooltips)\n",
    "p.scatter(\"lattice_cost\", \"atom_cost\", source=source, size=5, color=\"navy\", alpha=0.5)\n",
    "format_plot(p)\n",
    "p.xaxis.axis_label = \"Lattice cost\"\n",
    "p.yaxis.axis_label = \"Atom cost\"\n",
    "show(p)"
   ]
  },
  {
   "cell_type": "code",
   "execution_count": null,
   "id": "3ebb321b-a1b9-41d2-aabe-cf4df5c700dc",
   "metadata": {
    "scrolled": true
   },
   "outputs": [],
   "source": [
    "# Save structure mappings by input path\n",
    "results = {}\n",
    "for x in mapped_structures:\n",
    "    results[str(x[\"path\"])] = {\n",
    "        \"calculated_structure\": x[\"calculated_structure\"].to_dict(),\n",
    "        \"mapped_configuration_with_properties\": x[\n",
    "            \"mapped_configuration_with_properties\"\n",
    "        ].to_dict(),\n",
    "        \"scored_structure_mapping\": x[\"scored_structure_mapping\"].to_dict(),\n",
    "        \"mapped_structure\": x[\"mapped_structure\"].to_dict(),\n",
    "    }\n",
    "\n",
    "safe_dump(\n",
    "    data=results,\n",
    "    path=data_dir / \"mapped_structures.json\",\n",
    "    force=True,\n",
    ")"
   ]
  },
  {
   "cell_type": "markdown",
   "id": "8928e823-15f4-4b5b-82e8-719ef7978f67",
   "metadata": {},
   "source": [
    "## Composition axes\n",
    "\n",
    "### Introduction\n",
    "\n",
    "In a crystal with a fixed number of sites, the number of species occupying the same sublattice are not indepedent. In general, a crystal occupied by $s$ component species will have $k<s$ independent compositions. CASM converts between compositions expressed as number of species per unit cell and compositions in terms of independent \"parametric composition axes\" using:\n",
    "\n",
    "\\begin{align}\n",
    "    \\vec{n} &= \\vec{n}_0 + \\mathbf{Q} \\vec{x} \\\\\n",
    "    \\vec{x} &= \\mathbf{R}^{\\mathsf{T}} (\\vec{n} - \\vec{n}_0)\n",
    "\\end{align}\n",
    "\n",
    "\n",
    "where:\n",
    "\n",
    "- $\\vec{n}$: Vector of shape=($s$,), the number of each component species\n",
    "  per unit cell (*mol_composition*).\n",
    "- $\\vec{x}$: Vector of shape=($k$,), The composition along each composition axis when referenced to the origin composition (*param_composition*).\n",
    "- $\\vec{n}_0$: Vector of shape=($s$,), The origin in composition space, as the number of each component species per unit cell.\n",
    "- $Q$: Matrix of shape=($s$, $k$), with columns representing\n",
    "the change in composition per unit cell going one unit distance along each independent composition axis.\n",
    "- $R$: Matrix of shape=($s$, $k$), such that $\\mathbf{R}^{\\mathsf{T}}\\mathbf{Q} = \\mathbf{Q}^{\\mathsf{T}}\\mathbf{R} = \\mathbf{I}$.\n",
    "\n",
    "The \"parametric composition axes\" are the columns of $Q$, $\\vec{q}_i$. Due to preservation of the number of sites per unit cell, $\\sum_{i} Q_{ij} = 0$. If vacancies are allowed, they are included as a component species."
   ]
  },
  {
   "cell_type": "markdown",
   "id": "e33abc54-5d1a-4bf1-ba8e-8bea082d8340",
   "metadata": {},
   "source": [
    "### Print standard parametric composition axes\n",
    "\n",
    "When a CASM project is initialized, a set of standard choices for the parametric axes are determined and stored in the [Project.chemical_composition_axes] attribute. Printing the chemical_composition_axes results in a table summarizing the possible choices:"
   ]
  },
  {
   "cell_type": "code",
   "execution_count": null,
   "id": "1aa97644-c89c-4950-a145-9709344eb9a4",
   "metadata": {},
   "outputs": [],
   "source": [
    "# print possible axes\n",
    "print(project.chemical_composition_axes)"
   ]
  },
  {
   "cell_type": "markdown",
   "id": "addb8b72-27d8-46e3-a954-da2f9113da6f",
   "metadata": {},
   "source": [
    "### Select default parametric composition axes\n",
    "\n",
    "To select a particular choice to be used as the default for calculating parametric compositions, use [set_current_axes]():\n"
   ]
  },
  {
   "cell_type": "code",
   "execution_count": null,
   "id": "c5bb7669-e3c4-4822-8051-6ebebf7ad8b5",
   "metadata": {},
   "outputs": [],
   "source": [
    "# select axes with <key>, unset with None\n",
    "project.chemical_composition_axes.set_current_axes(1)\n",
    "\n",
    "# print possible axes and formulas for current choice\n",
    "print(project.chemical_composition_axes)\n",
    "\n",
    "# commit current choice\n",
    "project.chemical_composition_axes.commit()"
   ]
  },
  {
   "cell_type": "markdown",
   "id": "b99ba06c-51d2-43cc-9ef3-6a11ed3f436d",
   "metadata": {},
   "source": [
    "Notes:\n",
    "\n",
    "- In CASM v2, by default the parametric composition axes are \"normalized\" in the sense that a unit distance along that axis corresponds to a change in occupation of one site per unit cell. In CASM v1, the standard composition axes were not normalized.\n",
    "- The term \"endmember\" usually refers to the extreme compositions in a solid solution. In the context of CompositionConverter, the term \"end member composition\" is used to mean the composition one unit distance along a parametric composition axis, $\\vec{n}_0 + \\vec{q}_i$.\n",
    "- When printing formulas, the characters \"a\", \"b\", \"c\", etc. are used to represent the parametric compositions, $x_1$, $x_2$, $x_3$, etc.\n",
    "- When referring to parametric composition axes, the characters \"a\", \"b\", \"c\", etc. are used to represent the parametric composition axes, $\\vec{q}_1$, $\\vec{q}_2$, $\\vec{q}_3$, etc."
   ]
  },
  {
   "cell_type": "markdown",
   "id": "2d8308b9-e6a9-478e-bf8d-3fc65ce4f7b8",
   "metadata": {},
   "source": [
    "## Analyze calculated properties\n",
    "\n",
    "### Get properties\n",
    "\n",
    "- Energy per unitcell (eV / unitcell)\n",
    "- Parameteric composition ($a$ in Si$_{2-a}$Ge$_{a}$)\n",
    "  - Using [ConfigCompositionCalculator](https://prisms-center.github.io/CASMcode_pydocs/casm/project/2.0/reference/casm/_autosummary/casm.project.ConfigCompositionCalculator.html#configcompositioncalculator)"
   ]
  },
  {
   "cell_type": "code",
   "execution_count": null,
   "id": "8f5a342d-8c73-445b-a585-3a7061941fa5",
   "metadata": {},
   "outputs": [],
   "source": [
    "# This is a ConfigCompositionCalculator\n",
    "calc_comp = project.chemical_composition_axes.config_composition\n",
    "\n",
    "# Store properties here\n",
    "mapped_configurations = []\n",
    "energy_per_unitcell = []\n",
    "comp_a = []\n",
    "\n",
    "for x in mapped_structures:\n",
    "    \n",
    "    # Get configuration, energy, and param_composition\n",
    "    record = x[\"mapped_configuration_with_properties\"]\n",
    "    configuration = record.configuration\n",
    "    n_unitcells = configuration.supercell.n_unitcells\n",
    "    energy = record.scalar_global_property_value(\"energy\")\n",
    "    param_composition = calc_comp.param_composition(configuration)\n",
    "\n",
    "    # Append\n",
    "    mapped_configurations.append(configuration)\n",
    "    energy_per_unitcell.append(energy / n_unitcells)\n",
    "    comp_a.append(param_composition[0])\n",
    "\n"
   ]
  },
  {
   "cell_type": "markdown",
   "id": "3c9faa27-de37-42bc-b17c-2a149bcc58f2",
   "metadata": {},
   "source": [
    "### Plot energy per unitcell vs composition\n",
    "\n",
    "- First plot without setting any energy reference"
   ]
  },
  {
   "cell_type": "code",
   "execution_count": null,
   "id": "736aba90-531a-445a-b132-6d2e57eec835",
   "metadata": {},
   "outputs": [],
   "source": [
    "\n",
    "data = {\n",
    "    \"names\": names,\n",
    "    \"total_cost\": total_cost,\n",
    "    \"lattice_cost\": lattice_cost,\n",
    "    \"atom_cost\": atom_cost,\n",
    "    \"energy_per_unitcell\": energy_per_unitcell,\n",
    "    \"comp_a\": comp_a,\n",
    "}\n",
    "tooltips = [\n",
    "    (\"name\", \"@names\"),\n",
    "    (\"total_cost\", \"@total_cost\"),\n",
    "    (\"lattice_cost\", \"@lattice_cost\"),\n",
    "    (\"atom_cost\", \"@atom_cost\"),\n",
    "    (\"energy_per_unitcell\", \"@energy_per_unitcell\"),\n",
    "    (\"comp_a\", \"@comp_a\"),\n",
    "]\n",
    "source = ColumnDataSource(data)\n",
    "\n",
    "p = figure(width=600, height=400, tooltips=tooltips)\n",
    "p.scatter(\"comp_a\", \"energy_per_unitcell\", source=source, size=5, color=\"navy\", alpha=0.5)\n",
    "format_plot(p)\n",
    "p.xaxis.axis_label = \"Parametric composition (a in Si(2-a)Ge(a))\"\n",
    "p.yaxis.axis_label = \"Calculated energy per unitcell\"\n",
    "show(p)"
   ]
  },
  {
   "cell_type": "markdown",
   "id": "23e31b2e-fe90-4652-bd8d-c8e5129faf3c",
   "metadata": {},
   "source": [
    "### Calculate formation energy\n",
    "\n",
    "- Get energy and composition of configurations with min / max $a$"
   ]
  },
  {
   "cell_type": "code",
   "execution_count": null,
   "id": "2717a853-6df5-4ce4-8ef4-2854550b179f",
   "metadata": {},
   "outputs": [],
   "source": [
    "from libcasm.composition import FormationEnergyCalculator\n",
    "\n",
    "# For 1 independent composition axis:\n",
    "# get reference state - at max composition\n",
    "i_max = np.argmax(comp_a)\n",
    "e_max = energy_per_unitcell[i_max]\n",
    "comp_a_max = comp_a[i_max]\n",
    "\n",
    "# get reference state - at min composition\n",
    "i_min = np.argmin(comp_a)\n",
    "e_min = energy_per_unitcell[i_min]\n",
    "comp_a_min = comp_a[i_min]\n",
    "\n",
    "# Formation energy calculator\n",
    "e_calc = FormationEnergyCalculator(\n",
    "    composition_ref = np.array([\n",
    "        [comp_a_min],\n",
    "        [comp_a_max],\n",
    "    ]).transpose(),\n",
    "    energy_ref = np.array([e_min, e_max]),\n",
    ")\n",
    "\n",
    "# Calculate formation energies\n",
    "formation_energy_per_unitcell = []\n",
    "for i, config in enumerate(mapped_configurations):\n",
    "    ef = e_calc.formation_energy(\n",
    "        composition=calc_comp.param_composition(config),\n",
    "        energy=energy_per_unitcell[i]\n",
    "    )\n",
    "    formation_energy_per_unitcell.append(ef)"
   ]
  },
  {
   "cell_type": "markdown",
   "id": "476dfb7e-a44a-4f67-b051-57e854cd890f",
   "metadata": {},
   "source": [
    "### Plot formation energy per unitcell vs composition\n"
   ]
  },
  {
   "cell_type": "code",
   "execution_count": null,
   "id": "da780be3-e35b-4651-9397-f48413f41d3c",
   "metadata": {},
   "outputs": [],
   "source": [
    "data = {\n",
    "    \"names\": names,\n",
    "    \"total_cost\": total_cost,\n",
    "    \"lattice_cost\": lattice_cost,\n",
    "    \"atom_cost\": atom_cost,\n",
    "    \"energy_per_unitcell\": energy_per_unitcell,\n",
    "    \"formation_energy_per_unitcell\": formation_energy_per_unitcell,\n",
    "    \"comp_a\": comp_a,\n",
    "}\n",
    "tooltips = [\n",
    "    (\"name\", \"@names\"),\n",
    "    (\"total_cost\", \"@total_cost\"),\n",
    "    (\"lattice_cost\", \"@lattice_cost\"),\n",
    "    (\"atom_cost\", \"@atom_cost\"),\n",
    "    (\"energy_per_unitcell\", \"@energy_per_unitcell\"),\n",
    "    (\"formation_energy_per_unitcell\", \"@formation_energy_per_unitcell\"),\n",
    "    (\"comp_a\", \"@comp_a\"),\n",
    "]\n",
    "source = ColumnDataSource(data)\n",
    "\n",
    "p = figure(width=600, height=400, tooltips=tooltips)\n",
    "p.scatter(\"comp_a\", \"formation_energy_per_unitcell\", source=source, size=5, color=\"navy\", alpha=0.5)\n",
    "format_plot(p)\n",
    "p.xaxis.axis_label = \"Parametric composition (a in Si(2-a)Ge(a))\"\n",
    "p.yaxis.axis_label = \"Formation energy per unitcell\"\n",
    "show(p)"
   ]
  },
  {
   "cell_type": "code",
   "execution_count": null,
   "id": "0f1300fa-bf76-47f2-a197-ab78e5ed3662",
   "metadata": {},
   "outputs": [],
   "source": []
  }
 ],
 "metadata": {
  "kernelspec": {
   "display_name": "Python 3 (ipykernel)",
   "language": "python",
   "name": "python3"
  },
  "language_info": {
   "codemirror_mode": {
    "name": "ipython",
    "version": 3
   },
   "file_extension": ".py",
   "mimetype": "text/x-python",
   "name": "python",
   "nbconvert_exporter": "python",
   "pygments_lexer": "ipython3",
   "version": "3.11.5"
  }
 },
 "nbformat": 4,
 "nbformat_minor": 5
}

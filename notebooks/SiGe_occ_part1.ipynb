{
 "cells": [
  {
   "cell_type": "markdown",
   "id": "d6bd29ae-e376-4d29-bd79-fa6a3c2cf819",
   "metadata": {},
   "source": [
    "# Si-Ge cluster expansion workflow - part 1\n",
    "\n",
    "This is a CASM project tutorial to generate a phase diagram using a Si-Ge binary alloy cluster expansion fit to DFT calculations. The overall workflow is split into two parts.\n",
    "\n",
    "Topics covered in part 1:\n",
    "\n",
    "1. **Project initialization**: Define the primitive crystal structure and allowed atoms on each crystal site\n",
    "2. **Enumeration**: Enumerate crystal structures which are symmetrically distinct orderings of the atoms allowed by the prim occupation DoF\n",
    "3. **Calculation**: Calculate the energies of the enumerated structures using DFT\n",
    "4. **Import and mapping**: Import calculation results, mapping to orderings on the prim\n",
    "5. **Set reference states**: Choose reference states to define a formation energy for each structure\n",
    "6. **Query**: Query calculation properties\n"
   ]
  },
  {
   "cell_type": "code",
   "execution_count": null,
   "id": "c1c8c5df-db61-41cf-bc47-b3f75b7475a4",
   "metadata": {
    "ExecuteTime": {
     "end_time": "2024-08-19T04:56:43.616508Z",
     "start_time": "2024-08-19T04:56:43.532689Z"
    }
   },
   "outputs": [],
   "source": [
    "import pathlib\n",
    "import libcasm.xtal as xtal\n",
    "from casm.project import Project\n",
    "\n",
    "project_path = pathlib.Path(\"SiGe_occ\")\n",
    "project_path.mkdir(parents=True, exist_ok=True)"
   ]
  },
  {
   "cell_type": "markdown",
   "id": "f9cf00b3-1fb2-45fd-a0a4-16e1d54a883d",
   "metadata": {},
   "source": [
    "## Project initialization\n",
    "\n",
    "### Specify the \"prim\"\n",
    "\n",
    "A primitive crystal structure and allowed degrees of freedom (the \"prim\") specifies:\n",
    "\n",
    "- lattice vectors\n",
    "- crystal basis sites\n",
    "- global degrees of freedom\n",
    "- site degrees of freedom, including allowed occupant species on each basis site.\n",
    "\n",
    "When combined with a choice of basis function type, order, and truncation, the prim provides all the information needed to generate cluster expansion basis functions.\n",
    "\n",
    "Here is the prim for the Si-Ge binary alloy project, which we write to a JSON-formatted file named \"prim.json\":"
   ]
  },
  {
   "cell_type": "code",
   "execution_count": null,
   "id": "0b68f03f-e958-4ea1-95b0-dda042896afb",
   "metadata": {
    "ExecuteTime": {
     "end_time": "2024-08-19T04:56:49.293218Z",
     "start_time": "2024-08-19T04:56:49.279434Z"
    }
   },
   "outputs": [],
   "source": [
    "prim_data = {\n",
    "    \"title\" : \"SiGe_occ\",\n",
    "    \"lattice_vectors\" : [\n",
    "        [ 0.000000000000, 2.800000000000, 2.800000000000 ], # 1st lattice vector \n",
    "        [ 2.800000000000, 0.000000000000, 2.800000000000 ], # 2nd lattice vector\n",
    "        [ 2.800000000000, 2.800000000000, 0.000000000000 ], # 3rd lattice vector\n",
    "    ],\n",
    "    \"coordinate_mode\" : \"Fractional\",\n",
    "    \"basis\" : [\n",
    "        {\n",
    "            \"coordinate\" : [ 0.0, 0.0, 0.0 ],\n",
    "            \"occupant_dof\" : [ \"Si\", \"Ge\" ],\n",
    "        },\n",
    "        {\n",
    "            \"coordinate\" : [ 0.25, 0.25, 0.25 ],\n",
    "            \"occupant_dof\" : [ \"Si\", \"Ge\" ],\n",
    "        }\n",
    "    ],\n",
    "}\n",
    "\n",
    "with open(project_path / \"prim.json\", 'w') as f:\n",
    "    f.write(xtal.pretty_json(prim_data))"
   ]
  },
  {
   "cell_type": "markdown",
   "id": "b348f5cb-bbf0-4853-9934-6d64244fd8f0",
   "metadata": {},
   "source": [
    "For this particular project, the prim contains:\n",
    "\n",
    "- **lattice_vectors**: A list of crystal lattice vectors. Units are typically Angstrom, but are ultimately determined by the method used to perform calculations. \n",
    "- **basis**: A list of crystal basis sites, including coordinate and allowed degrees of freedom. For this ZrO project, the basis sites contain:\n",
    "  - **coordinate**: The location of the basis site, according to the \"coordinate_mode\".\n",
    "  - **occupants**: A list of the possible occupant species that may reside at each site. The names are case sensitive, and “Va” is reserved for vacancies.\n",
    "- **coordinate_mode**: Defines the units of basis site coordinates. May be one of:\n",
    "  - \"Cartesian\": To specify basis coordinates using Cartesian coordinates:\n",
    "    $$ r_{cart} = (x, y, z) $$\n",
    "  - \"Fractional\" or \"Direct\": To specify basis coordinates defined in terms of the lattice vectors:\n",
    "    $$ r_{cart} = L r_{frac}, $$\n",
    "    where:\n",
    "    - $r_{frac}$ are the coordinates in the fractional representation\n",
    "    - $r_{cart}$ are the coordinates in the Cartesian representation\n",
    "    - $L$ is the lattice as a column-vector matrix. \n",
    "  \n",
    "**Note**: It is common, but not required, to use the results of a fully relaxed calculation of the structure with the default occupation values for the prim lattice vectors. The default occupation on each site is the species listed first in \"occupants\". For occupation cluster expansions, ideal supercells of the prim lattice are used for the initial state of DFT calculations and are the default reference for strain."
   ]
  },
  {
   "cell_type": "markdown",
   "id": "3f2d8ffe-125a-4a06-8795-c4b9b8aefbb8",
   "metadata": {},
   "source": [
    "### Initialize a CASM project\n",
    "\n",
    "A CASM project is a directory containing data related to a particular prim. The CASM project directory structure standardizes the location of various files used by multiple CASM methods. This makes it easier to perform the most common operations and easier to share a project with others.\n",
    "\n",
    "A CASM project is initialized by defining a prim and using [Project.init TODO](TODO). This will:\n",
    "\n",
    "1. Check if the prim has a primitive unit cell with a CASM standard lattice orientation\n",
    "2. Perform a symmetry analysis\n",
    "3. Generate some default directories, data, and settings\n",
    "4. Perform a configuration check \n",
    "\n",
    "\n",
    "Notes:\n",
    "\n",
    "- Project files that the user should not typically modify directly, including a copy of the prim, are stored in a hidden `.casm` sub-directory of the CASM project directory. The presense or absence of the `.casm` directory is used by CASM to detect a CASM project.\n"
   ]
  },
  {
   "cell_type": "code",
   "execution_count": null,
   "id": "317ace48-41c3-4377-a74d-4c12e090fe86",
   "metadata": {},
   "outputs": [],
   "source": [
    "project = Project.init(path=project_path)"
   ]
  },
  {
   "cell_type": "markdown",
   "id": "557732d5-c3b6-4fbc-8598-15b6d96680a9",
   "metadata": {},
   "source": [
    "coming: \n",
    "- Show what happens with non-primitive prim or non-standard lattice?\n",
    "- Visualize the prim"
   ]
  },
  {
   "cell_type": "markdown",
   "id": "dda4a6da-9c7b-4deb-874a-aed638715f74",
   "metadata": {},
   "source": [
    "## Enumeration\n",
    "\n",
    "### Introduction\n",
    "\n",
    "To fit a cluster expansion for the Si-Ge system, we need a set of calculated energies for Si-Ge crystal structures with various orderings to use as training data. To begin, we use CASM to enumerate symmetrically distinct [Supercell]() and [Configuration]():\n",
    "\n",
    "- A [Supercell]() defines the three-dimensional translations that repeat a crystal structure. \n",
    "\n",
    "  -  A supercell can be specified by the integer transformation matrix, $T$, relating the superstructure lattice vectors, $S$, to the unit structure lattice vectors, $L$, according to $S = L T$, where $S$ and $L$ are shape=(3,3) matrices with lattice vectors as columns.\n",
    "  \n",
    "  TODO: figure\n",
    " \n",
    "- A [Configuration]() is a compact representation of the unit cell for a crystal structure that is allowed by the DoF specified in the prim. For this Si-Ge project, a configuration can be specified by:\n",
    " \n",
    "  - the supercell that is the unit cell for the crystal structure, and\n",
    "  - the occupant on each sites in the supercell (i.e. is Si or Ge on each site in the supercell).\n",
    "  \n",
    "  TODO: figure\n",
    "\n",
    "The Supercell object holds symmetry representations that efficiently applying symmetry operations to a configuration, allowing for comparisons and checks to determine if a configuration is symmetrically distinct. The same symmetry representations can be used to transform any configuration in the same supercell, so a Supercell object can be shared by multiple Configuration objects."
   ]
  },
  {
   "cell_type": "markdown",
   "id": "e9d9e50f-ee43-4866-a332-16bcbc0f4593",
   "metadata": {},
   "source": [
    "### Supercell enumeration\n",
    "\n",
    "#### Enumerating supercells by volume\n",
    "\n",
    "The method [enum.supercells_by_volume]() enumerates symmetrically distinct supercells from a minimum to a maximum volume, specified as integer multiples of the prim unit cell volume. It also has additional options, described in the reference documentation, for more complex use cases:\n",
    "\n",
    "- Enumerate supercells of another supercell\n",
    "- Enumerate 1d or 2d supercells\n",
    "- Enumerate supercells with a fixed shape but different sizes"
   ]
  },
  {
   "cell_type": "code",
   "execution_count": null,
   "id": "e0f5d686-f61f-477f-abe2-148ad5c429f6",
   "metadata": {},
   "outputs": [],
   "source": [
    "# Enumerate supercells with volume 1 to 4\n",
    "project.enum.supercells_by_volume(\n",
    "    max=4, \n",
    "    min=1, \n",
    "    id=\"supercells_by_volume.1\", \n",
    "    verbose=True,\n",
    ")"
   ]
  },
  {
   "cell_type": "markdown",
   "id": "dc494516-4d6b-47d7-a556-18d605ba5ea0",
   "metadata": {},
   "source": [
    "#### Enumeration Data\n",
    "\n",
    "The results of an enumeration can be accessed using the [EnumData]() class. The last enumeration is saved in [project.enum.last](). We can put additional information, including a text description of the enumeration, in the [EnumData.meta]() dict and save the updated EnumData using [commit](). Subsequently, if \"desc\" exists in [EnumData.meta](), it will be printed along with summary information such as the number of supercells."
   ]
  },
  {
   "cell_type": "code",
   "execution_count": null,
   "id": "402dcce7-dc59-48ac-89f5-2f3a99b9a76b",
   "metadata": {},
   "outputs": [],
   "source": [
    "enum_data = project.enum.last\n",
    "enum_data.meta = {\"desc\": \"Initial supercell enumeration\"}\n",
    "enum_data.commit()\n",
    "print(enum_data)"
   ]
  },
  {
   "cell_type": "markdown",
   "id": "6cd7d197-ee8a-4b96-9714-049466c66b60",
   "metadata": {},
   "source": [
    "Later, the [EnumData]() may also be accessed by id string using the [enum.get]() method."
   ]
  },
  {
   "cell_type": "code",
   "execution_count": null,
   "id": "b563adc0-adbf-47dd-80dd-f653b7230988",
   "metadata": {},
   "outputs": [],
   "source": [
    "enum_data = project.enum.get(\"supercells_by_volume.1\")\n",
    "print(enum_data)"
   ]
  },
  {
   "cell_type": "markdown",
   "id": "53dafc2a-673c-4f96-8d7e-6c3dc153b4ef",
   "metadata": {},
   "source": [
    "#### SupercellSet\n",
    "\n",
    "The supercells enumerated by [enum.supercells_by_volume]() are stored as [SupercellRecord](https://prisms-center.github.io/CASMcode_pydocs/libcasm/configuration/2.0/reference/libcasm/_autosummary/libcasm.configuration.SupercellRecord.html#supercellrecord) in a [SupercellSet](https://prisms-center.github.io/CASMcode_pydocs/libcasm/configuration/2.0/reference/libcasm/_autosummary/libcasm.configuration.SupercellSet.html#supercellset). Each SupercellRecord includes a [Supercell](https://prisms-center.github.io/CASMcode_pydocs/libcasm/configuration/2.0/reference/libcasm/_autosummary/libcasm.configuration.Supercell.html#supercell) and some additional information about the supercell, including a [supercell_name]() string which is used as an identifier.\n",
    "\n",
    "A SupercellSet:\n",
    "\n",
    "- does not keep multiple SupercellRecord for supercells that have the same superlattice vectors;\n",
    "- does allow storing separate SupercellRecord for supercells which are distinct (have different superlattice vectors) but are symmetrically equivalent (superlattice points are mapped by a crystal group operation).\n",
    "\n",
    "Iterating over a [SupercellSet](https://prisms-center.github.io/CASMcode_pydocs/libcasm/configuration/2.0/reference/libcasm/_autosummary/libcasm.configuration.SupercellSet.html#supercellset) yields [SupercellRecord](https://prisms-center.github.io/CASMcode_pydocs/libcasm/configuration/2.0/reference/libcasm/_autosummary/libcasm.configuration.SupercellRecord.html#supercellrecord). Each SupercellRecord includes a [Supercell](https://prisms-center.github.io/CASMcode_pydocs/libcasm/configuration/2.0/reference/libcasm/_autosummary/libcasm.configuration.Supercell.html#supercell) and some additional information about the Supercell."
   ]
  },
  {
   "cell_type": "code",
   "execution_count": null,
   "id": "02fb75f5-74d3-4681-a5b0-e3230023d8b5",
   "metadata": {},
   "outputs": [],
   "source": [
    "# Iterate over the first three SupercellRecord\n",
    "# in the SupercellSet and print the record\n",
    "for i, record in enumerate(project.enum.last.supercell_set):\n",
    "    print(record)\n",
    "    if i == 2:\n",
    "        break\n"
   ]
  },
  {
   "cell_type": "markdown",
   "id": "8279693d-0121-4a79-8372-7c4b440f56ad",
   "metadata": {},
   "source": [
    "#### Storing multiple enumerations\n",
    "\n",
    "Enumerations are stored in directories based on their id string. If an id is not given, or has value None, a new enumeration is automatically generated in sequential order. If the id of an existing enumeration is given, that enumeration is updated with any additional supercells generated.\n"
   ]
  },
  {
   "cell_type": "code",
   "execution_count": null,
   "id": "df5053a4-c3ce-42fa-aedd-df5713563982",
   "metadata": {},
   "outputs": [],
   "source": [
    "# Enumerate supercells with volume 3 to 5\n",
    "project.enum.supercells_by_volume(max=5, min=3, id=\"supercells_by_volume.2\")\n",
    "print()\n",
    "print(project.enum.last)"
   ]
  },
  {
   "cell_type": "markdown",
   "id": "1f374fae-99f0-431d-a07b-0062ef7a3607",
   "metadata": {},
   "source": [
    "### Configuration enumeration\n",
    "\n",
    "#### Enumerating configurations by supercell\n",
    "\n",
    "The method [enum.occ_by_supercell]() enumerates all occupations in supercells ranging from a minimum to a maximum volume. All configurations are guaranteed to be in a canonical supercell. By default it:\n",
    "\n",
    "- only outputs primitive configurations,\n",
    "- only outputs configurations in canonical form (the configuration that compares greatest to all configurations in a supercell that can be mapped by symmetry operations).\n",
    "\n",
    "With these defaults, if enumeration proceeds without skipping supercells, all symmetrically distinct configurations will be enumerated.\n",
    "\n",
    "As with enum.supercells_by_volume it also has additional options, described in the reference documentation, for more complex use cases:\n",
    "\n",
    "- Enumerate occupations in supercells of another supercell\n",
    "- Enumerate occupations in 1d or 2d supercells\n",
    "- Enumerate occupations in supercells with a fixed shape but different sizes\n",
    "\n",
    "**Warning**: The number of possible occupations in a $n$-component alloy with $m$ sites is $n^m$. Take care not to request too large of an enumeration. \n",
    "    "
   ]
  },
  {
   "cell_type": "code",
   "execution_count": null,
   "id": "30628ab0-2b3b-44ba-9965-4c5391f2463d",
   "metadata": {
    "scrolled": true
   },
   "outputs": [],
   "source": [
    "# Enumerate configurations in supercells with volume 1 to 4\n",
    "project.enum.occ_by_supercell(\n",
    "    max=4, \n",
    "    min=1, \n",
    "    id=\"occ_by_supercell.1\",\n",
    ")"
   ]
  },
  {
   "cell_type": "markdown",
   "id": "c13a0a38-0c43-4325-9eba-5d65991b6640",
   "metadata": {},
   "source": [
    "#### ConfigurationSet\n",
    "\n",
    "The configurations enumerated by [enum.occ_by_supercell]() are stored as [ConfigurationRecord](https://prisms-center.github.io/CASMcode_pydocs/libcasm/configuration/2.0/reference/libcasm/_autosummary/libcasm.configuration.ConfigurationRecord.html#configurationrecord) in a [ConfigurationSet](https://prisms-center.github.io/CASMcode_pydocs/libcasm/configuration/2.0/reference/libcasm/_autosummary/libcasm.configuration.ConfigurationSet.html#configurationset). Each ConfigurationRecord includes a [Configuration](https://prisms-center.github.io/CASMcode_pydocs/libcasm/configuration/2.0/reference/libcasm/_autosummary/libcasm.configuration.Configuration.html#configuration) and some additional information about the configuration, including a [configuration_name]() string which is used as an identifier.\n",
    "\n",
    "A ConfigurationSet:\n",
    "\n",
    "- requires configuration be in a canonical supercell;\n",
    "- does not keep multiple ConfigurationRecord for configurations that have the same DoF values;\n",
    "- does allow storing separate ConfigurationRecord for configurations which are distinct (have different DoF values) but are symmetrically equivalent (DoF values are mapped by a symmetry operation).\n",
    "- users are responsible for placing any other constraints (canonical configurations only, primitive configurations only, etc.) on which configuration are added to ConfigurationSet.\n",
    "\n",
    "**Warning**: ConfigurationSet is optimized for finding unique configurations using canonical supercells. Users must ensure that configuration added to ConfigurationSet are in a canonical supercell. This is not checked by ConfigurationSet but required to ensure proper configuration naming, serialization, and deserialization. Configurations that are not in a canonical supercell should be stored in a list or some other data structure.\n",
    "\n",
    "Iterating over a [ConfigurationSet](https://prisms-center.github.io/CASMcode_pydocs/libcasm/configuration/2.0/reference/libcasm/_autosummary/libcasm.configuration.ConfigurationSet.html#configurationset) yields [ConfigurationRecord](https://prisms-center.github.io/CASMcode_pydocs/libcasm/configuration/2.0/reference/libcasm/_autosummary/libcasm.configuration.ConfigurationRecord.html#configurationrecord)."
   ]
  },
  {
   "cell_type": "code",
   "execution_count": null,
   "id": "aacb13af-a26e-4aa9-9c14-c76e4f69fab3",
   "metadata": {},
   "outputs": [],
   "source": [
    "# Iterate over the first three ConfigurationRecord\n",
    "# in the ConfigurationSet and print the record\n",
    "for i, record in enumerate(project.enum.last.configuration_set):\n",
    "    print(record)\n",
    "    if i == 2:\n",
    "        break\n"
   ]
  },
  {
   "cell_type": "markdown",
   "id": "523c7da5-0ccc-4f1a-b52b-c74c045a2c46",
   "metadata": {},
   "source": [
    "#### Conversion to structure\n",
    "\n",
    "The [Configuration.to_structure]() methods convert a CASM [Configuration]() to a CASM [Structure](). A Structure:\n",
    "\n",
    "- represents a crystal structure with a 3d lattice,\n",
    "- is not restricted to the DoF values allowed by a prim,\n",
    "- has built in methods for conversions to and from VASP POSCAR format."
   ]
  },
  {
   "cell_type": "code",
   "execution_count": null,
   "id": "63891472-8d65-42b6-8ad7-6aed2fb82435",
   "metadata": {},
   "outputs": [],
   "source": [
    "# Iterate over the first three ConfigurationRecord\n",
    "# in the ConfigurationSet and print the record\n",
    "for i, record in enumerate(project.enum.last.configuration_set):\n",
    "    name = record.configuration_name\n",
    "    structure = record.configuration.to_structure()\n",
    "    poscar_str = structure.to_poscar_str(title=name)\n",
    "    \n",
    "    print(\"~~~\")\n",
    "    print(f\"Configuration: {name}\")\n",
    "    print(f\"Structure: {structure}\")\n",
    "    print(f\"POSCAR:\\n{poscar_str}\", end=\"\")\n",
    "    if i == 2:\n",
    "        break"
   ]
  },
  {
   "cell_type": "markdown",
   "id": "0f7cb9fb-6dc2-4f17-9c63-3b88c15936fe",
   "metadata": {},
   "source": [
    "#### Filtered enumeration\n",
    "\n",
    "A custom filter function may be used to filter configurations during enumeration. Here we:\n",
    "\n",
    "- use [ConfigCompositionCalculator]() to calculate the number of each type of atom in the supercell,\n",
    "- keep configurations that have exactly 2 Ge,\n",
    "- use ``dry_run=True``so the enumeration is not committed automatically."
   ]
  },
  {
   "cell_type": "code",
   "execution_count": null,
   "id": "9bc8038d-e790-465d-bb96-edb59da2476b",
   "metadata": {
    "scrolled": true
   },
   "outputs": [],
   "source": [
    "# Enumerate configurations:\n",
    "# - in supercells with volume 1 to 3\n",
    "# - with exactly 2 Ge atoms in the supercell\n",
    "\n",
    "from libcasm.configuration import (\n",
    "    Configuration,\n",
    "    SupercellRecord,\n",
    ")\n",
    "from casm.project import EnumData\n",
    "\n",
    "# Get the casm.project.ConfigCompositionCalculator\n",
    "comp = project.chemical_composition\n",
    "\n",
    "# Get the index of Ge in the composition arrays\n",
    "i_Ge = comp.components.index(\"Ge\")\n",
    "\n",
    "# Print each check?\n",
    "verbose_checks = True\n",
    "\n",
    "\n",
    "def filter_f(config: Configuration, enum_data: EnumData) -> bool:\n",
    "    \"\"\"Return True to include; False to exclude\"\"\"\n",
    "    \n",
    "    # Get number of Ge in the supercell\n",
    "    N_Ge = comp.per_supercell(config)[i_Ge]\n",
    "    \n",
    "    # Print info about the config being checked\n",
    "    if verbose_checks:\n",
    "        record = SupercellRecord(config.supercell)\n",
    "        print(\n",
    "            f\"~check~ {record.supercell_name}\",\n",
    "            config.occupation,\n",
    "            f\"include?: {N_Ge == 2}\",\n",
    "        )\n",
    "    return N_Ge == 2\n",
    "\n",
    "project.enum.occ_by_supercell(\n",
    "    max=3, \n",
    "    min=1, \n",
    "    filter_f=filter_f,\n",
    "    verbose=True,\n",
    "    dry_run=True,\n",
    ")"
   ]
  },
  {
   "cell_type": "markdown",
   "id": "44109354-53e0-4ae2-b14c-d59250285c8d",
   "metadata": {},
   "source": [
    "### Acting on enumeration data\n",
    "\n",
    "This section provides a reference for various actions that can be performed on enumerations, and may be skipped for the Si-Ge demonstration project.\n",
    "\n",
    "#### Get an enumeration by id\n",
    "\n",
    "- Also, update enumeration metadata and commit."
   ]
  },
  {
   "cell_type": "code",
   "execution_count": null,
   "id": "88912089-518b-43c8-b83b-df761f960ae1",
   "metadata": {},
   "outputs": [],
   "source": [
    "enum_data = project.enum.get(\"supercells_by_volume.1\")\n",
    "enum_data.meta = {\"desc\": \"Initial supercell enumeration\"}\n",
    "enum_data.commit()\n",
    "print(enum_data)"
   ]
  },
  {
   "cell_type": "markdown",
   "id": "c3362f1d-289b-4716-92e0-4d3bc2eba15b",
   "metadata": {},
   "source": [
    "#### List all enumerations\n",
    "\n",
    "- Print a summary of each enumeration in the project"
   ]
  },
  {
   "cell_type": "code",
   "execution_count": null,
   "id": "71095a3b-5524-4976-ab14-f3d1306eb456",
   "metadata": {},
   "outputs": [],
   "source": [
    "project.enum.list()"
   ]
  },
  {
   "cell_type": "markdown",
   "id": "1d3ab3a3-be24-4b70-b05e-1592a0672a31",
   "metadata": {},
   "source": [
    "#### Copy an enumeration\n",
    "\n",
    "- Will raise if the destination enumeration already exists"
   ]
  },
  {
   "cell_type": "code",
   "execution_count": null,
   "id": "4cafa47e-e780-4554-9d41-91c61c34815e",
   "metadata": {},
   "outputs": [],
   "source": [
    "project.enum.copy(\n",
    "    src_id=\"supercells_by_volume.2\", \n",
    "    dest_id=\"supercells_by_volume.3\",\n",
    ")\n",
    "project.enum.list()"
   ]
  },
  {
   "cell_type": "markdown",
   "id": "f0b13b9e-7cd5-4fb9-a639-cacf53ed6176",
   "metadata": {},
   "source": [
    "#### Merge enumerations\n",
    "\n",
    "- Supercells and configurations in source enumeration sets are inserted into the destination enumeration sets.\n",
    "- Supercells and configurations in source enumeration lists are appended to the destination enumeration lists if they are not already present."
   ]
  },
  {
   "cell_type": "code",
   "execution_count": null,
   "id": "d152cc61-90f6-4845-9e14-a79546ae5e1f",
   "metadata": {},
   "outputs": [],
   "source": [
    "project.enum.merge(\n",
    "    src_id=\"supercells_by_volume.1\",\n",
    "    dest_id=\"supercells_by_volume.3\",\n",
    ")\n",
    "project.enum.list()"
   ]
  },
  {
   "cell_type": "markdown",
   "id": "2d585359-d6da-4105-911a-723ebf40fcfb",
   "metadata": {},
   "source": [
    "#### Remove an enumeration\n",
    "\n",
    "- Will raise if the enumeration does not exist"
   ]
  },
  {
   "cell_type": "code",
   "execution_count": null,
   "id": "71f1525f-6f46-4b9f-a40b-6fcca001f3c8",
   "metadata": {},
   "outputs": [],
   "source": [
    "project.enum.remove(\"supercells_by_volume.3\")\n",
    "project.enum.list()"
   ]
  },
  {
   "cell_type": "markdown",
   "id": "4ae757b3-3d75-4413-b97a-ca0fb66aeb93",
   "metadata": {},
   "source": [
    "## Calculation\n",
    "\n",
    "The calculation process described here involves the following conversions:\n",
    "\n",
    "    libcasm.configuration.Configuration \n",
    "    -> libcasm.xtal.Structure \n",
    "    -> ase.Atoms \n",
    "    -> VASP input files (POSCAR, KPOINTS, INCAR, POTCAR)\n",
    "\n",
    "Template VASP files will be stored in:\n",
    "\n",
    "    <project>/calculation_settings/calctype.<calctype_id>/\n",
    "\n",
    "The calculation directories created will be:\n",
    "\n",
    "    <enum_dir>/training_data/<configname>/calctype.<calctype_id>/\n",
    "\n",
    "Where\n",
    "    <enum_dir> = <project>/enumerations/enum.<enum_id>/"
   ]
  },
  {
   "cell_type": "code",
   "execution_count": null,
   "id": "b3605b91-0b91-48ae-a8f4-7c894986e764",
   "metadata": {},
   "outputs": [],
   "source": [
    "# TODO:\n",
    "# # Calculation type ID\n",
    "# calctype_id = \"vasp.relax.default\"\n",
    "\n",
    "# # Location for calculation setings & VASP template files:\n",
    "# calc_settings_dir = project.dir.calc_settings_dir(id=calctype_id)"
   ]
  },
  {
   "cell_type": "markdown",
   "id": "d897f84e-39ee-4d8a-bc54-9d09b581fc2d",
   "metadata": {},
   "source": [
    "### Construct VASP input files"
   ]
  },
  {
   "cell_type": "markdown",
   "id": "8928e823-15f4-4b5b-82e8-719ef7978f67",
   "metadata": {},
   "source": [
    "## Composition axes\n",
    "\n",
    "### Introduction\n",
    "\n",
    "In a crystal with a fixed number of sites, the number of species occupying the same sublattice are not indepedent. In general, a crystal occupied by $s$ component species will have $k<s$ independent compositions. CASM converts between compositions expressed as number of species per unit cell and compositions in terms of independent \"parametric composition axes\" using:\n",
    "\n",
    "\\begin{align}\n",
    "    \\vec{n} &= \\vec{n}_0 + \\mathbf{Q} \\vec{x} \\\\\n",
    "    \\vec{x} &= \\mathbf{R}^{\\mathsf{T}} (\\vec{n} - \\vec{n}_0)\n",
    "\\end{align}\n",
    "\n",
    "\n",
    "where:\n",
    "\n",
    "- $\\vec{n}$: Vector of shape=($s$,), the number of each component species\n",
    "  per unit cell (*mol_composition*).\n",
    "- $\\vec{x}$: Vector of shape=($k$,), The composition along each composition axis when referenced to the origin composition (*param_composition*).\n",
    "- $\\vec{n}_0$: Vector of shape=($s$,), The origin in composition space, as the number of each component species per unit cell.\n",
    "- $Q$: Matrix of shape=($s$, $k$), with columns representing\n",
    "the change in composition per unit cell going one unit distance along each independent composition axis.\n",
    "- $R$: Matrix of shape=($s$, $k$), such that $\\mathbf{R}^{\\mathsf{T}}\\mathbf{Q} = \\mathbf{Q}^{\\mathsf{T}}\\mathbf{R} = \\mathbf{I}$.\n",
    "\n",
    "The \"parametric composition axes\" are the columns of $Q$, $\\vec{q}_i$. Due to preservation of the number of sites per unit cell, $\\sum_{i} Q_{ij} = 0$. If vacancies are allowed, they are included as a component species."
   ]
  },
  {
   "cell_type": "markdown",
   "id": "e33abc54-5d1a-4bf1-ba8e-8bea082d8340",
   "metadata": {},
   "source": [
    "### Print standard parametric composition axes\n",
    "\n",
    "When a CASM project is initialized, a set of standard choices for the parametric axes are determined and stored in the [Project.chemical_composition_axes] attribute. Printing the chemical_composition_axes results in a table summarizing the possible choices:"
   ]
  },
  {
   "cell_type": "code",
   "execution_count": null,
   "id": "1aa97644-c89c-4950-a145-9709344eb9a4",
   "metadata": {},
   "outputs": [],
   "source": [
    "# print possible axes \n",
    "print(project.chemical_composition_axes)"
   ]
  },
  {
   "cell_type": "markdown",
   "id": "addb8b72-27d8-46e3-a954-da2f9113da6f",
   "metadata": {},
   "source": [
    "### Select default parametric composition axes\n",
    "\n",
    "To select a particular choice to be used as the default for calculating parametric compositions, use [set_current_axes]():\n"
   ]
  },
  {
   "cell_type": "code",
   "execution_count": null,
   "id": "c5bb7669-e3c4-4822-8051-6ebebf7ad8b5",
   "metadata": {},
   "outputs": [],
   "source": [
    "# select axes with <key>, unset with None\n",
    "project.chemical_composition_axes.set_current_axes(1)\n",
    "\n",
    "# print possible axes and formulas for current choice \n",
    "print(project.chemical_composition_axes)\n",
    "\n",
    "# commit current choice \n",
    "project.chemical_composition_axes.commit()"
   ]
  },
  {
   "cell_type": "markdown",
   "id": "b99ba06c-51d2-43cc-9ef3-6a11ed3f436d",
   "metadata": {},
   "source": [
    "Notes:\n",
    "\n",
    "- In CASM v2, by default the parametric composition axes are \"normalized\" in the sense that a unit distance along that axis corresponds to a change in occupation of one site per unit cell. In CASM v1, the standard composition axes were not normalized.\n",
    "- The term \"endmember\" usually refers to the extreme compositions in a solid solution. In the context of CompositionConverter, the term \"end member composition\" is used to mean the composition one unit distance along a parametric composition axis, $\\vec{n}_0 + \\vec{q}_i$.\n",
    "- When printing formulas, the characters \"a\", \"b\", \"c\", etc. are used to represent the parametric compositions, $x_1$, $x_2$, $x_3$, etc.\n",
    "- When referring to parametric composition axes, the characters \"a\", \"b\", \"c\", etc. are used to represent the parametric composition axes, $\\vec{q}_1$, $\\vec{q}_2$, $\\vec{q}_3$, etc."
   ]
  },
  {
   "cell_type": "code",
   "execution_count": null,
   "id": "32fe4f31-3ac5-4b3a-acdf-446b7bf07549",
   "metadata": {},
   "outputs": [],
   "source": []
  }
 ],
 "metadata": {
  "kernelspec": {
   "display_name": "Python 3 (ipykernel)",
   "language": "python",
   "name": "python3"
  },
  "language_info": {
   "codemirror_mode": {
    "name": "ipython",
    "version": 3
   },
   "file_extension": ".py",
   "mimetype": "text/x-python",
   "name": "python",
   "nbconvert_exporter": "python",
   "pygments_lexer": "ipython3",
   "version": "3.11.5"
  }
 },
 "nbformat": 4,
 "nbformat_minor": 5
}

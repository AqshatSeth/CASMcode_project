{
 "cells": [
  {
   "cell_type": "code",
   "execution_count": 1,
   "id": "c7d646cb-40e8-4e3c-a93b-e2595aa1990d",
   "metadata": {},
   "outputs": [],
   "source": [
    "import pathlib\n",
    "import libcasm.xtal as xtal\n",
    "from casm.project import Project\n",
    "\n",
    "project_path = pathlib.Path(\"ZrO\")\n",
    "project_path.mkdir(parents=True, exist_ok=True)"
   ]
  },
  {
   "cell_type": "code",
   "execution_count": 2,
   "id": "0ff0b551-cb6b-4048-89f8-15adc7514f23",
   "metadata": {},
   "outputs": [],
   "source": [
    "basis = [\n",
    "    {\n",
    "        \"coordinate\" : [ 0.0, 0.0, 0.0 ],\n",
    "        \"occupants\" : [ \"Zr\" ],\n",
    "    },\n",
    "    {\n",
    "        \"coordinate\" : [ 2./3., 1./3., 1./2. ],\n",
    "        \"occupants\" : [ \"Zr\" ]\n",
    "    },\n",
    "    {\n",
    "        \"coordinate\" : [ 1./3., 2./3., 1./4. ],\n",
    "        \"occupants\" : [ \"Va\", \"O\" ]\n",
    "    },\n",
    "    {\n",
    "        \"coordinate\" : [ 1./3., 2./3., 3./4.  ],\n",
    "        \"occupants\" : [ \"Va\", \"O\" ]\n",
    "    }\n",
    "]\n",
    "\n",
    "prim_data = {\n",
    "  \"basis\": basis,\n",
    "  \"coordinate_mode\" : \"Fractional\",\n",
    "  \"lattice_vectors\" : [\n",
    "    [ 3.233986856383, 0.000000000000, 0.000000000000 ],\n",
    "    [ -1.616993428191, 2.800714773133, 0.000000000000 ],\n",
    "    [ 0.000000000000, 0.000000000000, 5.168678340000 ]\n",
    "  ],\n",
    "  \"title\" : \"ZrO\"\n",
    "}\n",
    "\n",
    "with open(project_path / \"prim.json\", 'w') as f:\n",
    "    f.write(xtal.pretty_json(prim_data))"
   ]
  },
  {
   "cell_type": "code",
   "execution_count": 3,
   "id": "3c078e73-2e33-4134-a396-1d5b6a40cc31",
   "metadata": {},
   "outputs": [
    {
     "name": "stdout",
     "output_type": "stream",
     "text": [
      "CASM project already exists at ZrO\n",
      "Using existing project\n"
     ]
    }
   ],
   "source": [
    "project = Project.init(path=project_path)"
   ]
  },
  {
   "cell_type": "code",
   "execution_count": 4,
   "id": "66588c40-c809-424e-8976-cddb16a32a96",
   "metadata": {},
   "outputs": [
    {
     "name": "stdout",
     "output_type": "stream",
     "text": [
      "KEY  ORIGIN      a         GENERAL FORMULA\n",
      "-----  ----------  --------  -----------------\n",
      "    0  Zr(2)O(2)   Zr(2)VaO  Zr(2)Va(a)O(2-a)\n",
      "    1  Zr(2)Va(2)  Zr(2)VaO  Zr(2)Va(2-a)O(a)\n",
      "\n",
      "Currently selected composition axes: 1\n",
      "\n",
      "Parametric composition:\n",
      "  comp(a) = -0.5*(comp_n(Va) - 2)  + 0.5*comp_n(O) \n",
      "\n",
      "Composition:\n",
      "  comp_n(Zr) = 2\n",
      "  comp_n(Va) = 2 - 1*comp(a) \n",
      "  comp_n(O) = 1*comp(a) \n",
      "\n",
      "Parametric chemical potentials:\n",
      "  param_chem_pot(a) = -chem_pot(Va) + chem_pot(O)\n"
     ]
    }
   ],
   "source": [
    "print(project.chemical_composition_axes)"
   ]
  },
  {
   "cell_type": "code",
   "execution_count": 5,
   "id": "3018615e-f7ff-4ecb-8412-04b9a2b05ef6",
   "metadata": {},
   "outputs": [
    {
     "name": "stdout",
     "output_type": "stream",
     "text": [
      "KEY  ORIGIN      a         GENERAL FORMULA\n",
      "-----  ----------  --------  -----------------\n",
      "    0  Zr(2)O(2)   Zr(2)VaO  Zr(2)Va(a)O(2-a)\n",
      "    1  Zr(2)Va(2)  Zr(2)VaO  Zr(2)Va(2-a)O(a)\n",
      "\n",
      "Currently selected composition axes: 1\n",
      "\n",
      "Parametric composition:\n",
      "  comp(a) = -0.5*(comp_n(Va) - 2)  + 0.5*comp_n(O) \n",
      "\n",
      "Composition:\n",
      "  comp_n(Zr) = 2\n",
      "  comp_n(Va) = 2 - 1*comp(a) \n",
      "  comp_n(O) = 1*comp(a) \n",
      "\n",
      "Parametric chemical potentials:\n",
      "  param_chem_pot(a) = -chem_pot(Va) + chem_pot(O)\n"
     ]
    }
   ],
   "source": [
    "project.chemical_composition_axes.set_current_axes(1)\n",
    "project.chemical_composition_axes.set_include_va(True)\n",
    "project.chemical_composition_axes.commit()\n",
    "print(project.chemical_composition_axes)"
   ]
  },
  {
   "cell_type": "code",
   "execution_count": 6,
   "id": "331c70d3-7845-4735-ac7f-642fda961c24",
   "metadata": {},
   "outputs": [
    {
     "name": "stdout",
     "output_type": "stream",
     "text": [
      "Composition axes: 0\n",
      "\n",
      "Parametric composition:\n",
      "  comp(a) = 0.5*comp_n(Va)  - 0.5*(comp_n(O) - 2) \n",
      "\n",
      "Composition:\n",
      "  comp_n(Zr) = 2\n",
      "  comp_n(Va) = 1*comp(a) \n",
      "  comp_n(O) = 2 - 1*comp(a) \n",
      "\n",
      "Parametric chemical potentials:\n",
      "  param_chem_pot(a) = chem_pot(Va) - chem_pot(O) \n"
     ]
    }
   ],
   "source": [
    "project.chemical_composition_axes.set_include_va(True)\n",
    "project.chemical_composition_axes.print_axes(0)"
   ]
  },
  {
   "cell_type": "code",
   "execution_count": 7,
   "id": "554fbb3d-3dfd-4867-b44f-9e6c886b9161",
   "metadata": {},
   "outputs": [
    {
     "name": "stdout",
     "output_type": "stream",
     "text": [
      "General formula: Zr(2)Va(a)O(2-a)\n",
      "Origin: Zr(2)O(2)\n",
      "End Members:\n",
      "- a: Zr(2)VaO\n"
     ]
    }
   ],
   "source": [
    "axes = project.chemical_composition_axes.possible_axes[\"0\"]\n",
    "\n",
    "print(\"General formula:\", axes.mol_formula())\n",
    "print(\"Origin:\", axes.origin_formula())\n",
    "print(\"End Members:\")\n",
    "for i, label in enumerate(axes.axes()):\n",
    "    print(f\"- {label}:\", axes.end_member_formula(i))"
   ]
  },
  {
   "cell_type": "code",
   "execution_count": null,
   "id": "59ab4929-9d8a-46a9-8e2a-f0b169926738",
   "metadata": {},
   "outputs": [],
   "source": []
  }
 ],
 "metadata": {
  "kernelspec": {
   "display_name": "Python 3 (ipykernel)",
   "language": "python",
   "name": "python3"
  },
  "language_info": {
   "codemirror_mode": {
    "name": "ipython",
    "version": 3
   },
   "file_extension": ".py",
   "mimetype": "text/x-python",
   "name": "python",
   "nbconvert_exporter": "python",
   "pygments_lexer": "ipython3",
   "version": "3.11.5"
  }
 },
 "nbformat": 4,
 "nbformat_minor": 5
}
